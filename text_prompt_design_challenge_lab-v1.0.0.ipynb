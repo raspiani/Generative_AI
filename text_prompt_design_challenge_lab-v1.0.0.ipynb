{
 "cells": [
  {
   "cell_type": "markdown",
   "metadata": {
    "id": "VEqbX8OhE8y9"
   },
   "source": [
    "# Text Prompt Design: Challenge Lab\n",
    "\n",
    "## Overview\n",
    "\n",
    "This challenge lab is designed to test your knowledge of calling Gemini and utilizing a few fundamental text prompt design techniques.\n",
    "\n",
    "Two featured guides on prompting from the Google Cloud documentation are:\n",
    "\n",
    "1. [Overview of prompting strategies](https://cloud.google.com/vertex-ai/generative-ai/docs/learn/prompts/prompt-design-strategies) from the Generative AI on Vertex AI documentation.\n",
    "\n",
    "2. [Prompt design strategies](https://ai.google.dev/gemini-api/docs/prompting-strategies) from the Gemini API documentation.\n",
    "\n",
    "Both contain good tips. You are encouraged to **bookmark them**.\n",
    "\n",
    "## Objective\n",
    "You will demonstrate your ability to:\n",
    "\n",
    "- Initialize Vertex AI in your environment\n",
    "- Load a generative model\n",
    "- Guide model output with a persona\n",
    "- Extract information to a schema\n",
    "- Stay on topic with fallback responses\n",
    "- Use examples to influence the model's response\n",
    "\n",
    "Some of the following Python notebook cells have missing or incomplete code sections and tasks that need to be completed, indicated by the code comments starting with `# TODO`. Your challenge is to complete each cell, run it to test for correctness, and then move on. When all the cells are working, you have completed the challenge.\n",
    "\n",
    "**Note:** If you need help, [this notebook demonstrates getting started using Gemini in Python](https://github.com/GoogleCloudPlatform/generative-ai/blob/main/gemini/getting-started/intro_gemini_python.ipynb)."
   ]
  },
  {
   "cell_type": "markdown",
   "metadata": {
    "id": "N5afkyDMSBW5"
   },
   "source": [
    "## Task 1. Install, import & initialize the Vertex AI SDK and a generative model\n",
    "\n",
    "1. Install the Vertex AI SDK."
   ]
  },
  {
   "cell_type": "code",
   "execution_count": 1,
   "metadata": {
    "id": "kc4WxYmLSBW5",
    "tags": []
   },
   "outputs": [
    {
     "name": "stdout",
     "output_type": "stream",
     "text": [
      "Requirement already satisfied: google-cloud-aiplatform in /opt/conda/lib/python3.10/site-packages (1.70.0)\n",
      "Requirement already satisfied: google-api-core!=2.0.*,!=2.1.*,!=2.2.*,!=2.3.*,!=2.4.*,!=2.5.*,!=2.6.*,!=2.7.*,<3.0.0dev,>=1.34.1 in /opt/conda/lib/python3.10/site-packages (from google-api-core[grpc]!=2.0.*,!=2.1.*,!=2.2.*,!=2.3.*,!=2.4.*,!=2.5.*,!=2.6.*,!=2.7.*,<3.0.0dev,>=1.34.1->google-cloud-aiplatform) (1.34.1)\n",
      "Requirement already satisfied: google-auth<3.0.0dev,>=2.14.1 in /opt/conda/lib/python3.10/site-packages (from google-cloud-aiplatform) (2.35.0)\n",
      "Requirement already satisfied: proto-plus<2.0.0dev,>=1.22.3 in /opt/conda/lib/python3.10/site-packages (from google-cloud-aiplatform) (1.24.0)\n",
      "Requirement already satisfied: protobuf!=4.21.0,!=4.21.1,!=4.21.2,!=4.21.3,!=4.21.4,!=4.21.5,<6.0.0dev,>=3.20.2 in /opt/conda/lib/python3.10/site-packages (from google-cloud-aiplatform) (3.20.3)\n",
      "Requirement already satisfied: packaging>=14.3 in /opt/conda/lib/python3.10/site-packages (from google-cloud-aiplatform) (24.1)\n",
      "Requirement already satisfied: google-cloud-storage<3.0.0dev,>=1.32.0 in /opt/conda/lib/python3.10/site-packages (from google-cloud-aiplatform) (2.14.0)\n",
      "Requirement already satisfied: google-cloud-bigquery!=3.20.0,<4.0.0dev,>=1.15.0 in /opt/conda/lib/python3.10/site-packages (from google-cloud-aiplatform) (3.25.0)\n",
      "Requirement already satisfied: google-cloud-resource-manager<3.0.0dev,>=1.3.3 in /opt/conda/lib/python3.10/site-packages (from google-cloud-aiplatform) (1.12.5)\n",
      "Requirement already satisfied: shapely<3.0.0dev in /opt/conda/lib/python3.10/site-packages (from google-cloud-aiplatform) (2.0.6)\n",
      "Requirement already satisfied: pydantic<3 in /opt/conda/lib/python3.10/site-packages (from google-cloud-aiplatform) (2.9.2)\n",
      "Requirement already satisfied: docstring-parser<1 in /opt/conda/lib/python3.10/site-packages (from google-cloud-aiplatform) (0.16)\n",
      "Requirement already satisfied: googleapis-common-protos<2.0dev,>=1.56.2 in /opt/conda/lib/python3.10/site-packages (from google-api-core!=2.0.*,!=2.1.*,!=2.2.*,!=2.3.*,!=2.4.*,!=2.5.*,!=2.6.*,!=2.7.*,<3.0.0dev,>=1.34.1->google-api-core[grpc]!=2.0.*,!=2.1.*,!=2.2.*,!=2.3.*,!=2.4.*,!=2.5.*,!=2.6.*,!=2.7.*,<3.0.0dev,>=1.34.1->google-cloud-aiplatform) (1.65.0)\n",
      "Requirement already satisfied: requests<3.0.0dev,>=2.18.0 in /opt/conda/lib/python3.10/site-packages (from google-api-core!=2.0.*,!=2.1.*,!=2.2.*,!=2.3.*,!=2.4.*,!=2.5.*,!=2.6.*,!=2.7.*,<3.0.0dev,>=1.34.1->google-api-core[grpc]!=2.0.*,!=2.1.*,!=2.2.*,!=2.3.*,!=2.4.*,!=2.5.*,!=2.6.*,!=2.7.*,<3.0.0dev,>=1.34.1->google-cloud-aiplatform) (2.32.3)\n",
      "Requirement already satisfied: grpcio<2.0dev,>=1.33.2 in /opt/conda/lib/python3.10/site-packages (from google-api-core[grpc]!=2.0.*,!=2.1.*,!=2.2.*,!=2.3.*,!=2.4.*,!=2.5.*,!=2.6.*,!=2.7.*,<3.0.0dev,>=1.34.1->google-cloud-aiplatform) (1.66.2)\n",
      "Requirement already satisfied: grpcio-status<2.0dev,>=1.33.2 in /opt/conda/lib/python3.10/site-packages (from google-api-core[grpc]!=2.0.*,!=2.1.*,!=2.2.*,!=2.3.*,!=2.4.*,!=2.5.*,!=2.6.*,!=2.7.*,<3.0.0dev,>=1.34.1->google-cloud-aiplatform) (1.48.2)\n",
      "Requirement already satisfied: cachetools<6.0,>=2.0.0 in /opt/conda/lib/python3.10/site-packages (from google-auth<3.0.0dev,>=2.14.1->google-cloud-aiplatform) (5.5.0)\n",
      "Requirement already satisfied: pyasn1-modules>=0.2.1 in /opt/conda/lib/python3.10/site-packages (from google-auth<3.0.0dev,>=2.14.1->google-cloud-aiplatform) (0.4.1)\n",
      "Requirement already satisfied: rsa<5,>=3.1.4 in /opt/conda/lib/python3.10/site-packages (from google-auth<3.0.0dev,>=2.14.1->google-cloud-aiplatform) (4.9)\n",
      "Requirement already satisfied: google-cloud-core<3.0.0dev,>=1.6.0 in /opt/conda/lib/python3.10/site-packages (from google-cloud-bigquery!=3.20.0,<4.0.0dev,>=1.15.0->google-cloud-aiplatform) (2.4.1)\n",
      "Requirement already satisfied: google-resumable-media<3.0dev,>=0.6.0 in /opt/conda/lib/python3.10/site-packages (from google-cloud-bigquery!=3.20.0,<4.0.0dev,>=1.15.0->google-cloud-aiplatform) (2.7.2)\n",
      "Requirement already satisfied: python-dateutil<3.0dev,>=2.7.2 in /opt/conda/lib/python3.10/site-packages (from google-cloud-bigquery!=3.20.0,<4.0.0dev,>=1.15.0->google-cloud-aiplatform) (2.9.0.post0)\n",
      "Requirement already satisfied: grpc-google-iam-v1<1.0.0dev,>=0.12.4 in /opt/conda/lib/python3.10/site-packages (from google-cloud-resource-manager<3.0.0dev,>=1.3.3->google-cloud-aiplatform) (0.13.1)\n",
      "Requirement already satisfied: google-crc32c<2.0dev,>=1.0 in /opt/conda/lib/python3.10/site-packages (from google-cloud-storage<3.0.0dev,>=1.32.0->google-cloud-aiplatform) (1.6.0)\n",
      "Requirement already satisfied: annotated-types>=0.6.0 in /opt/conda/lib/python3.10/site-packages (from pydantic<3->google-cloud-aiplatform) (0.7.0)\n",
      "Requirement already satisfied: pydantic-core==2.23.4 in /opt/conda/lib/python3.10/site-packages (from pydantic<3->google-cloud-aiplatform) (2.23.4)\n",
      "Requirement already satisfied: typing-extensions>=4.6.1 in /opt/conda/lib/python3.10/site-packages (from pydantic<3->google-cloud-aiplatform) (4.12.2)\n",
      "Requirement already satisfied: numpy<3,>=1.14 in /opt/conda/lib/python3.10/site-packages (from shapely<3.0.0dev->google-cloud-aiplatform) (1.26.4)\n",
      "Requirement already satisfied: pyasn1<0.7.0,>=0.4.6 in /opt/conda/lib/python3.10/site-packages (from pyasn1-modules>=0.2.1->google-auth<3.0.0dev,>=2.14.1->google-cloud-aiplatform) (0.6.1)\n",
      "Requirement already satisfied: six>=1.5 in /opt/conda/lib/python3.10/site-packages (from python-dateutil<3.0dev,>=2.7.2->google-cloud-bigquery!=3.20.0,<4.0.0dev,>=1.15.0->google-cloud-aiplatform) (1.16.0)\n",
      "Requirement already satisfied: charset-normalizer<4,>=2 in /opt/conda/lib/python3.10/site-packages (from requests<3.0.0dev,>=2.18.0->google-api-core!=2.0.*,!=2.1.*,!=2.2.*,!=2.3.*,!=2.4.*,!=2.5.*,!=2.6.*,!=2.7.*,<3.0.0dev,>=1.34.1->google-api-core[grpc]!=2.0.*,!=2.1.*,!=2.2.*,!=2.3.*,!=2.4.*,!=2.5.*,!=2.6.*,!=2.7.*,<3.0.0dev,>=1.34.1->google-cloud-aiplatform) (3.3.2)\n",
      "Requirement already satisfied: idna<4,>=2.5 in /opt/conda/lib/python3.10/site-packages (from requests<3.0.0dev,>=2.18.0->google-api-core!=2.0.*,!=2.1.*,!=2.2.*,!=2.3.*,!=2.4.*,!=2.5.*,!=2.6.*,!=2.7.*,<3.0.0dev,>=1.34.1->google-api-core[grpc]!=2.0.*,!=2.1.*,!=2.2.*,!=2.3.*,!=2.4.*,!=2.5.*,!=2.6.*,!=2.7.*,<3.0.0dev,>=1.34.1->google-cloud-aiplatform) (3.10)\n",
      "Requirement already satisfied: urllib3<3,>=1.21.1 in /opt/conda/lib/python3.10/site-packages (from requests<3.0.0dev,>=2.18.0->google-api-core!=2.0.*,!=2.1.*,!=2.2.*,!=2.3.*,!=2.4.*,!=2.5.*,!=2.6.*,!=2.7.*,<3.0.0dev,>=1.34.1->google-api-core[grpc]!=2.0.*,!=2.1.*,!=2.2.*,!=2.3.*,!=2.4.*,!=2.5.*,!=2.6.*,!=2.7.*,<3.0.0dev,>=1.34.1->google-cloud-aiplatform) (1.26.20)\n",
      "Requirement already satisfied: certifi>=2017.4.17 in /opt/conda/lib/python3.10/site-packages (from requests<3.0.0dev,>=2.18.0->google-api-core!=2.0.*,!=2.1.*,!=2.2.*,!=2.3.*,!=2.4.*,!=2.5.*,!=2.6.*,!=2.7.*,<3.0.0dev,>=1.34.1->google-api-core[grpc]!=2.0.*,!=2.1.*,!=2.2.*,!=2.3.*,!=2.4.*,!=2.5.*,!=2.6.*,!=2.7.*,<3.0.0dev,>=1.34.1->google-cloud-aiplatform) (2024.8.30)\n"
     ]
    }
   ],
   "source": [
    "# TODO: Complete the following pip command\n",
    "!pip install google-cloud-aiplatform"
   ]
  },
  {
   "cell_type": "markdown",
   "metadata": {
    "id": "BuQwwRiniVFG"
   },
   "source": [
    "2. Restart your notebook kernel.\n",
    "3. Import the following:\n",
    "- the Vertex AI SDK\n",
    "- the class to instantiate a generative model from the Vertex AI generative models module"
   ]
  },
  {
   "cell_type": "code",
   "execution_count": 4,
   "metadata": {
    "id": "kpdnPWaTK27C",
    "tags": []
   },
   "outputs": [],
   "source": [
    "# TODO: Complete the imports\n",
    "import vertexai\n",
    "from vertexai.generative_models import GenerativeModel"
   ]
  },
  {
   "cell_type": "markdown",
   "metadata": {
    "id": "6Fom0ZkMSBW6"
   },
   "source": [
    "4. Initialize Vertex AI with your project ID and a location (you can use like `us-central1`)."
   ]
  },
  {
   "cell_type": "code",
   "execution_count": 5,
   "metadata": {
    "id": "LCaCx6PLSBW6",
    "tags": []
   },
   "outputs": [],
   "source": [
    "# TODO: Insert the required steps here\n",
    "PROJECT_ID = \"qwiklabs-gcp-00-3145a3aedc08\"\n",
    "LOCATION = \"us-central1\"\n",
    "\n",
    "vertexai.init(project=PROJECT_ID, location=LOCATION)"
   ]
  },
  {
   "cell_type": "markdown",
   "metadata": {
    "id": "O8DUcgKJK27C"
   },
   "source": [
    "5. Instantiate a generative model and save it to the `generative_model` variable. For this notebook, use `gemini-pro` as your model version. When instantiating the model, pass a `generation_config` parameter with the temperature set to 0."
   ]
  },
  {
   "cell_type": "code",
   "execution_count": 13,
   "metadata": {
    "id": "2998506fe6d1",
    "tags": []
   },
   "outputs": [],
   "source": [
    "# TODO: Insantiate a \"gemini-pro\" model with a configured temperature of 0.\n",
    "generative_model = GenerativeModel(\"gemini-pro\", generation_config={\"temperature\":0})"
   ]
  },
  {
   "cell_type": "markdown",
   "metadata": {
    "id": "h3YN2rf1K27C"
   },
   "source": [
    "6. Complete the TODO's in this function, which you will use for the rest of the lab:"
   ]
  },
  {
   "cell_type": "code",
   "execution_count": 14,
   "metadata": {
    "id": "joXl2V2JK27D",
    "tags": []
   },
   "outputs": [],
   "source": [
    "def print_response(prompt):\n",
    "\n",
    "    # TODO: Complete this line to generate a response to the prompt:\n",
    "    response = generative_model.generate_content(prompt)\n",
    "\n",
    "    # TODO: Complete this line to print only the text of the model's response,\n",
    "    # not the additional response metadata.\n",
    "    print(response.text)\n",
    "    print()"
   ]
  },
  {
   "cell_type": "markdown",
   "metadata": {
    "id": "kEAJ0ipmbndQ"
   },
   "source": [
    "## Task 2. Personas\n",
    "\n",
    "1. Run the following cell to see the default response to this prompt.\n",
    "\n",
    "2. Then tweak the prompt by asking the model to take on the persona of an **energetic, inspiring personal trainer** who can get users **excited to work out their leg muscles**. Note the difference in vocabulary and tone."
   ]
  },
  {
   "cell_type": "code",
   "execution_count": 20,
   "metadata": {
    "id": "UEo0QhauK27D",
    "tags": []
   },
   "outputs": [
    {
     "name": "stdout",
     "output_type": "stream",
     "text": [
      "## Let's get those legs pumping! 🔥\n",
      "\n",
      "Alright, listen up, because I'm about to unleash some leg-blasting exercises that will have your muscles screaming for mercy (in the best way possible, of course). \n",
      "\n",
      "**First, let's warm up those engines:**\n",
      "\n",
      "* **5 minutes of light cardio:** Get your blood flowing with some jumping jacks, high knees, or butt kicks.\n",
      "* **Dynamic stretches:** Focus on loosening up your quads, hamstrings, glutes, and calves with lunges, leg swings, and hip circles.\n",
      "\n",
      "**Now, let's get down to business:**\n",
      "\n",
      "**1. Barbell Squats:** The king of all leg exercises. Load up the bar, keep your core tight, and descend with control until your thighs are parallel to the ground. Explode back up and feel the burn!\n",
      "\n",
      "**2. Romanian Deadlifts:** Target your hamstrings and glutes with this powerful exercise. Keep your back straight, hinge at the hips, and lower the bar towards your shins. Squeeze your glutes to lift the weight back up.\n",
      "\n",
      "**3. Lunges:** Work your balance and coordination with lunges. Step forward with one leg, keeping your back straight and your front knee aligned with your ankle. Lower your body until your front thigh is parallel to the ground, then push back up to the starting position.\n",
      "\n",
      "**4. Leg Press:** This machine allows you to safely overload your legs. Push the platform away with your feet, focusing on extending your legs fully at the top.\n",
      "\n",
      "**5. Calf Raises:** Don't neglect your calves! Stand on the balls of your feet and raise your heels as high as you can. Hold for a second at the top, then slowly lower back down.\n",
      "\n",
      "**Remember:**\n",
      "\n",
      "* **Focus on form:** Proper form is crucial to prevent injuries and maximize results. Watch videos, ask for guidance, and don't be afraid to start with lighter weights.\n",
      "* **Progressive overload:** Gradually increase the weight, reps, or sets over time to keep challenging your muscles.\n",
      "* **Mind-muscle connection:** Focus on feeling the muscles working throughout each exercise.\n",
      "* **Rest and recovery:** Give your legs time to recover between workouts. Aim for at least 48 hours of rest before training them again.\n",
      "\n",
      "**Bonus:**\n",
      "\n",
      "* **Jump Squats:** Add an explosive element to your squats by jumping at the top of the movement.\n",
      "* **Bulgarian Split Squats:** Challenge your balance and stability with this single-leg variation of the lunge.\n",
      "* **Pistol Squats:** The ultimate test of leg strength and control. Master this single-leg squat for ultimate bragging rights.\n",
      "\n",
      "**Now get out there and crush those legs!** 💪 \n",
      "\n",
      "Remember, I'm here to support you every step of the way. If you have any questions or need further guidance, don't hesitate to ask. Let's make those legs the strongest they've ever been! 🏆\n",
      "\n"
     ]
    }
   ],
   "source": [
    "# TODO: Improve the personality of the response by assigning the suggested persona.\n",
    "# prompt = \"As an energetic and inspiring personal trainer, What are some good leg exercises?\"\n",
    "\n",
    "# print_response(prompt)\n",
    "\n",
    "\n",
    "# Tweaked prompt for the energetic, inspiring personal trainer persona\n",
    "prompt = \"As an energetic and inspiring personal trainer, can you get me excited about some amazing leg exercises that will really pump up my muscles?\"\n",
    "\n",
    "print_response(prompt)"
   ]
  },
  {
   "cell_type": "markdown",
   "metadata": {
    "id": "ueKZMheeK27D"
   },
   "source": [
    "## Task 3. Be specific + constrain the output format\n",
    "\n",
    "1. Have the model convert the following text of cooking ingredients to a YAML format. Each ingredient should be listed as a dictionary with keys for **ingredient** and **quantity** populated with the correct value given the ingredients in the following recipe:"
   ]
  },
  {
   "cell_type": "code",
   "execution_count": 23,
   "metadata": {
    "id": "qyJASDrsK27D",
    "tags": []
   },
   "outputs": [
    {
     "name": "stdout",
     "output_type": "stream",
     "text": [
      "## Ingredients:\n",
      "\n",
      "- ingredient: egg whites\n",
      "  quantity: 9\n",
      "- ingredient: Cream of Tartar\n",
      "  quantity: 3/8 tsp\n",
      "- ingredient: Vinegar\n",
      "  quantity: 1 1/2 tbs\n",
      "- ingredient: Vanilla\n",
      "  quantity: 1 1/2 tsp\n",
      "- ingredient: Sugar\n",
      "  quantity: 3 cups\n",
      "- ingredient: Heavy whipping cream\n",
      "  quantity: 1 quarts\n",
      "- ingredient: Strawberries\n",
      "  quantity: 3 boxes \n",
      "\n",
      "\n"
     ]
    }
   ],
   "source": [
    "# TODO: Write instructions to complete the task.\n",
    "instructions = \"\"\"\n",
    "    - Please convert the following list of cooking ingredients into YAML format. \n",
    "    - Each ingredient should be represented as a dictionary with the keys ingredient and quantity.\n",
    "    - Ensure that the output is properly formatted as valid YAML.\n",
    "\"\"\"\n",
    "\n",
    "ingredients = \"\"\"\n",
    "    Ingredients:\n",
    "    * 9 egg whites\n",
    "    * 3/8 tsp Cream of Tartar\n",
    "    * 1 1/2 tbs Vinegar\n",
    "    * 1 1/2 tsp Vanilla\n",
    "    * 3 cups Sugar\n",
    "    * 1 quarts Heavy whipping cream\n",
    "    * 3 boxes Strawberries\n",
    "    \"\"\"\n",
    "\n",
    "prompt = instructions + \"\\n\\n\" + ingredients\n",
    "\n",
    "print_response(prompt)"
   ]
  },
  {
   "cell_type": "markdown",
   "metadata": {
    "id": "6xRk8HTLK27D"
   },
   "source": [
    "## Task 4. Use a fallback response\n",
    "\n",
    "1. Adjust the prompt below to specify that the model should only answer questions related to historical landmarks. If a user askes about something else, the model should respond with the message: `Sorry, I only answer questions about historical landmarks!`\n",
    "\n",
    "2. Adjust your instructions until the model declines to answer the `user_query` below."
   ]
  },
  {
   "cell_type": "code",
   "execution_count": 24,
   "metadata": {
    "id": "6InaQ3OpK27D",
    "tags": []
   },
   "outputs": [
    {
     "name": "stdout",
     "output_type": "stream",
     "text": [
      "Sorry, I only answer questions about historical landmarks! \n",
      "\n"
     ]
    }
   ],
   "source": [
    "# TODO: Add instructions to prompt a fallback response for off-topic queries.\n",
    "\n",
    "instructions = \"\"\"\n",
    "You are a history tour guide. You only answer questions related to historical landmarks.\n",
    "If the question is about something else, respond with: 'Sorry, I only answer questions about historical landmarks!' \n",
    "Answer the user's question: {user_query}\n",
    "\n",
    "\"\"\"\n",
    "\n",
    "user_query = \"How can I attract butterflies to my garden?\"\n",
    "\n",
    "print_response(instructions.format(user_query=user_query))"
   ]
  },
  {
   "cell_type": "markdown",
   "metadata": {
    "id": "gFolKJjNK27D"
   },
   "source": [
    "## Task 5. Make results more specific with examples\n",
    "\n",
    "1. Run the code cell below to see the model's response as-is.\n",
    "\n",
    "2. Imagining you work for a bicycle tour company, modify each of the example outputs below to include a bicycle.\n",
    "\n",
    "3. Re-run the code cell to make sure the model generates a bicycle-themed response. Leave the instructions alone and tweak your examples until you get such a response."
   ]
  },
  {
   "cell_type": "code",
   "execution_count": 25,
   "metadata": {
    "id": "zsjp39ZWK27D",
    "tags": []
   },
   "outputs": [
    {
     "name": "stdout",
     "output_type": "stream",
     "text": [
      "## Bangalore Tourist Recommendations:\n",
      "\n",
      "**Day 1:**\n",
      "\n",
      "* **Morning:** Start your day with a visit to the iconic **Bangalore Palace**, a stunning example of Tudor architecture. Explore the palace grounds and admire the beautiful gardens.\n",
      "* **Afternoon:** Head to the **Lalbagh Botanical Garden**, a sprawling green oasis in the heart of the city. Explore the diverse collection of plants and flowers, and enjoy a peaceful stroll through the serene surroundings.\n",
      "* **Evening:** Experience the vibrant nightlife of Bangalore at **Indiranagar**. Enjoy a delicious dinner at one of the many restaurants, followed by drinks at a trendy bar.\n",
      "\n",
      "**Day 2:**\n",
      "\n",
      "* **Morning:** Visit the **Visvesvaraya Industrial & Technological Museum**, a fascinating museum that showcases the history and development of science and technology in India.\n",
      "* **Afternoon:** Immerse yourself in the spiritual atmosphere of the **ISKCON Temple Bangalore**, a beautiful temple dedicated to Lord Krishna.\n",
      "* **Evening:** Catch a performance at the **Chowdiah Memorial Hall**, a renowned venue for classical music and dance performances.\n",
      "\n",
      "**Day 3:**\n",
      "\n",
      "* **Morning:** Take a day trip to the **Nandi Hills**, a scenic hill station located about 60 km from Bangalore. Enjoy breathtaking views of the surrounding countryside and visit the ancient Nandi Temple.\n",
      "* **Afternoon:** Go shopping at the **Commercial Street**, a bustling market area with a wide variety of shops selling everything from clothes and electronics to souvenirs and spices.\n",
      "* **Evening:** Relax and unwind at one of Bangalore's many rooftop bars, enjoying panoramic views of the city skyline.\n",
      "\n",
      "**Additional Recommendations:**\n",
      "\n",
      "* Visit the **Tipu Sultan's Summer Palace**, a historical palace that offers a glimpse into the life of the Mysore ruler.\n",
      "* Explore the **Cubbon Park**, a sprawling green space in the heart of the city, perfect for a leisurely walk or bike ride.\n",
      "* Take a cooking class and learn how to prepare traditional South Indian dishes.\n",
      "* Enjoy a traditional Ayurvedic massage, a relaxing and rejuvenating experience.\n",
      "\n",
      "**Transportation:**\n",
      "\n",
      "* Bangalore has a good public transportation system, including buses and metro trains. You can also easily get around by taxi or auto-rickshaw.\n",
      "* If you prefer to explore the city at your own pace, you can rent a car or motorbike.\n",
      "\n",
      "**Food:**\n",
      "\n",
      "* Bangalore offers a wide variety of cuisines, from traditional South Indian dishes to international fare.\n",
      "* Be sure to try the local specialties, such as masala dosa, idli, and vada.\n",
      "* There are also many excellent restaurants serving North Indian, Chinese, and Continental cuisine.\n",
      "\n",
      "**Accommodation:**\n",
      "\n",
      "* Bangalore has a wide range of accommodation options to suit all budgets, from budget-friendly guesthouses to luxury hotels.\n",
      "* You can find accommodation in all areas of the city, depending on your preferences.\n",
      "\n",
      "**Tips:**\n",
      "\n",
      "* The best time to visit Bangalore is between October and March, when the weather is pleasant.\n",
      "* Carry cash as some smaller shops and restaurants may not accept credit cards.\n",
      "* Bargaining is expected at markets and street vendors.\n",
      "* Be aware of the traffic, especially during peak hours.\n",
      "\n",
      "**Enjoy your trip to Bangalore!**\n",
      "\n"
     ]
    }
   ],
   "source": [
    "# TODO: Modify the examples below to guide the model to always generate\n",
    "# recommendations involving bicycles.\n",
    "\n",
    "prompt = \"\"\"\n",
    "    <INSTRUCTIONS>\n",
    "    Give a tourist recommendation for the input city.\n",
    "    </INSTRUCTIONS>\n",
    "\n",
    "    <EXAMPLES>\n",
    "    Input: Paris\n",
    "    Output: Take a taxi to the Louvre and then to Montmartre.\n",
    "\n",
    "    Input: Washington D.C.\n",
    "    Output: Drive your rental car to the Lincoln Memorial.\n",
    "\n",
    "    Input: New York City\n",
    "    Output: Walk along the river.\n",
    "    </EXAMPLES>\n",
    "\n",
    "    <INPUT CITY>\n",
    "    Bangalore\n",
    "    </INPUT CITY>\"\"\"\n",
    "\n",
    "print_response(prompt)"
   ]
  },
  {
   "cell_type": "code",
   "execution_count": 26,
   "metadata": {
    "tags": []
   },
   "outputs": [
    {
     "name": "stdout",
     "output_type": "stream",
     "text": [
      "## Bangalore on Two Wheels: A Bicycle Tour\n",
      "\n",
      "Bangalore, the vibrant capital of Karnataka, offers a unique blend of history, nature, and modern charm. Exploring this city on a bicycle allows you to experience its diverse offerings at your own pace, soaking in the sights, sounds, and smells of this dynamic metropolis.\n",
      "\n",
      "**Here's a recommended bicycle tour for your Bangalore adventure:**\n",
      "\n",
      "**Morning:**\n",
      "\n",
      "* Start your day with a visit to the majestic **Lalbagh Botanical Garden**. Rent a bicycle at the entrance and explore the sprawling 240-acre green haven. Admire the diverse flora, including the iconic Glass House and the Lalbagh Rock.\n",
      "\n",
      "* Cycle towards the **Bangalore Palace**, a stunning example of Tudor architecture. Take a guided tour of the palace and its beautiful gardens, imagining the lives of the Wodeyar dynasty.\n",
      "\n",
      "**Afternoon:**\n",
      "\n",
      "* Head to the **Cubbon Park**, the \"green lung\" of Bangalore. Enjoy a leisurely ride through the park, stopping to admire the statues, fountains, and historical buildings.\n",
      "\n",
      "* Grab a delicious lunch at one of the many cafes or restaurants around the park.\n",
      "\n",
      "**Evening:**\n",
      "\n",
      "* Cycle to the **Ulsoor Lake**, a picturesque lake surrounded by lush greenery. Enjoy a peaceful ride along the lake, taking in the stunning views of the cityscape.\n",
      "\n",
      "* Conclude your tour with a visit to the **MG Road**, a vibrant commercial street bustling with activity. Soak in the lively atmosphere and do some souvenir shopping.\n",
      "\n",
      "**Additional Tips:**\n",
      "\n",
      "* Choose a comfortable bicycle and wear appropriate clothing and footwear.\n",
      "* Carry a water bottle and sunscreen, especially during the summer months.\n",
      "* Be aware of traffic rules and ride cautiously.\n",
      "* Download a map or use a GPS app to navigate your route.\n",
      "* Consider joining a guided bicycle tour for a more immersive experience.\n",
      "\n",
      "**Beyond the Suggested Route:**\n",
      "\n",
      "* For a historical experience, cycle to the Tipu Sultan's Summer Palace or the Bangalore Fort.\n",
      "* For a dose of art and culture, visit the National Gallery of Modern Art or the Visvesvaraya Industrial & Technological Museum.\n",
      "* For a taste of local life, explore the bustling markets of KR Market or Chickpet.\n",
      "\n",
      "**Remember:** Bangalore is a bicycle-friendly city with dedicated lanes and rental options available. So, hop on a bike and discover the hidden gems of this fascinating city at your own pace!\n",
      "\n"
     ]
    }
   ],
   "source": [
    "# Revised prompt to ensure bicycle-themed recommendations are generated\n",
    "prompt = \"\"\"\n",
    "    <INSTRUCTIONS>\n",
    "    Give a tourist recommendation for the input city, ensuring to include a bicycle in the activity.\n",
    "    </INSTRUCTIONS>\n",
    "\n",
    "    <EXAMPLES>\n",
    "    Input: Paris\n",
    "    Output: Rent a bicycle and ride along the Seine, stopping at the Louvre and then cycling up to Montmartre for a scenic view.\n",
    "\n",
    "    Input: Washington D.C.\n",
    "    Output: Rent a bike to cycle to the Lincoln Memorial, and enjoy the ride along the National Mall while visiting the monuments.\n",
    "\n",
    "    Input: New York City\n",
    "    Output: Rent a bicycle and explore Central Park, then ride along the Hudson River Greenway, stopping at waterfront parks.\n",
    "    </EXAMPLES>\n",
    "\n",
    "    <INPUT CITY>\n",
    "    Bangalore\n",
    "    </INPUT CITY>\"\"\"\n",
    "\n",
    "print_response(prompt)"
   ]
  },
  {
   "cell_type": "markdown",
   "metadata": {
    "id": "LvbIXnwqK27D"
   },
   "source": [
    "## Congratulations!\n",
    "\n",
    "If you have completed the steps above, you have demonstrated your ability to use several prompt engineering techniques."
   ]
  }
 ],
 "metadata": {
  "colab": {
   "name": "text_prompt_design_challenge_lab.ipynb",
   "provenance": [],
   "toc_visible": true
  },
  "environment": {
   "kernel": "conda-base-py",
   "name": "workbench-notebooks.m125",
   "type": "gcloud",
   "uri": "us-docker.pkg.dev/deeplearning-platform-release/gcr.io/workbench-notebooks:m125"
  },
  "kernelspec": {
   "display_name": "Python 3 (ipykernel) (Local)",
   "language": "python",
   "name": "conda-base-py"
  },
  "language_info": {
   "codemirror_mode": {
    "name": "ipython",
    "version": 3
   },
   "file_extension": ".py",
   "mimetype": "text/x-python",
   "name": "python",
   "nbconvert_exporter": "python",
   "pygments_lexer": "ipython3",
   "version": "3.10.15"
  }
 },
 "nbformat": 4,
 "nbformat_minor": 4
}
