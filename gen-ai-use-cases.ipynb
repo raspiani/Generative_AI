{
  "cells": [
    {
      "cell_type": "markdown",
      "source": [
        "# Task 1. Initialize Vertex AI in a Colab Enterprise notebook"
      ],
      "metadata": {
        "id": "w2bbvk7X8acg"
      },
      "id": "w2bbvk7X8acg"
    },
    {
      "cell_type": "code",
      "id": "W7C5ZgcWmPvUdXC4CD0nfRtV",
      "metadata": {
        "tags": [],
        "id": "W7C5ZgcWmPvUdXC4CD0nfRtV",
        "colab": {
          "base_uri": "https://localhost:8080/"
        },
        "executionInfo": {
          "status": "ok",
          "timestamp": 1731122437040,
          "user_tz": -420,
          "elapsed": 17836,
          "user": {
            "displayName": "",
            "userId": ""
          }
        },
        "outputId": "52247343-9d7d-429b-a110-bb7c2d5e4751"
      },
      "source": [
        "%pip install --upgrade --quiet google-cloud-aiplatform"
      ],
      "execution_count": 1,
      "outputs": [
        {
          "output_type": "stream",
          "name": "stdout",
          "text": [
            "\u001b[?25l   \u001b[90m━━━━━━━━━━━━━━━━━━━━━━━━━━━━━━━━━━━━━━━━\u001b[0m \u001b[32m0.0/6.2 MB\u001b[0m \u001b[31m?\u001b[0m eta \u001b[36m-:--:--\u001b[0m\r\u001b[2K   \u001b[91m━━━\u001b[0m\u001b[90m╺\u001b[0m\u001b[90m━━━━━━━━━━━━━━━━━━━━━━━━━━━━━━━━━━━━\u001b[0m \u001b[32m0.5/6.2 MB\u001b[0m \u001b[31m15.2 MB/s\u001b[0m eta \u001b[36m0:00:01\u001b[0m\r\u001b[2K   \u001b[91m━━━━━━━━━━━━━━━━━━━━━━━━━\u001b[0m\u001b[90m╺\u001b[0m\u001b[90m━━━━━━━━━━━━━━\u001b[0m \u001b[32m3.9/6.2 MB\u001b[0m \u001b[31m55.8 MB/s\u001b[0m eta \u001b[36m0:00:01\u001b[0m\r\u001b[2K   \u001b[91m━━━━━━━━━━━━━━━━━━━━━━━━━━━━━━━━━━━━━━━\u001b[0m\u001b[91m╸\u001b[0m \u001b[32m6.2/6.2 MB\u001b[0m \u001b[31m72.5 MB/s\u001b[0m eta \u001b[36m0:00:01\u001b[0m\r\u001b[2K   \u001b[90m━━━━━━━━━━━━━━━━━━━━━━━━━━━━━━━━━━━━━━━━\u001b[0m \u001b[32m6.2/6.2 MB\u001b[0m \u001b[31m56.3 MB/s\u001b[0m eta \u001b[36m0:00:00\u001b[0m\n",
            "\u001b[?25h"
          ]
        }
      ]
    },
    {
      "cell_type": "code",
      "source": [
        "from inspect import cleandoc\n",
        "from IPython.display import display, Markdown\n",
        "\n",
        "import vertexai\n",
        "from vertexai.generative_models import GenerativeModel, GenerationConfig"
      ],
      "metadata": {
        "id": "D2wyqFa67Jq5",
        "executionInfo": {
          "status": "ok",
          "timestamp": 1731122469465,
          "user_tz": -420,
          "elapsed": 4323,
          "user": {
            "displayName": "",
            "userId": ""
          }
        }
      },
      "id": "D2wyqFa67Jq5",
      "execution_count": 2,
      "outputs": []
    },
    {
      "cell_type": "code",
      "source": [
        "PROJECT = !gcloud config get-value project\n",
        "PROJECT_ID = PROJECT[0]\n",
        "REGION = \"us-east4\"\n",
        "vertexai.init(project=PROJECT_ID, location=REGION)"
      ],
      "metadata": {
        "id": "Tl2A0M1M8HrL",
        "executionInfo": {
          "status": "ok",
          "timestamp": 1731122515239,
          "user_tz": -420,
          "elapsed": 2698,
          "user": {
            "displayName": "",
            "userId": ""
          }
        }
      },
      "id": "Tl2A0M1M8HrL",
      "execution_count": 3,
      "outputs": []
    },
    {
      "cell_type": "markdown",
      "source": [
        "# Task 2. Load a generative model"
      ],
      "metadata": {
        "id": "nyA0CIY48iUl"
      },
      "id": "nyA0CIY48iUl"
    },
    {
      "cell_type": "code",
      "source": [
        "model = GenerativeModel(\"gemini-pro\")"
      ],
      "metadata": {
        "id": "MbHah8tD8S8O",
        "executionInfo": {
          "status": "ok",
          "timestamp": 1731122536027,
          "user_tz": -420,
          "elapsed": 6,
          "user": {
            "displayName": "",
            "userId": ""
          }
        }
      },
      "id": "MbHah8tD8S8O",
      "execution_count": 4,
      "outputs": []
    },
    {
      "cell_type": "markdown",
      "source": [
        "# Task 3. Ideation"
      ],
      "metadata": {
        "id": "LD6AKRm78mvG"
      },
      "id": "LD6AKRm78mvG"
    },
    {
      "cell_type": "code",
      "source": [
        "creative_gen_config = GenerationConfig(temperature=1, top_p=0.8)"
      ],
      "metadata": {
        "id": "RMKoiDLX8Y4n",
        "executionInfo": {
          "status": "ok",
          "timestamp": 1731122649727,
          "user_tz": -420,
          "elapsed": 9,
          "user": {
            "displayName": "",
            "userId": ""
          }
        }
      },
      "id": "RMKoiDLX8Y4n",
      "execution_count": 5,
      "outputs": []
    },
    {
      "cell_type": "code",
      "source": [
        "prompt = \"What are some strategies for overcoming writer's block?\"\n",
        "\n",
        "response = model.generate_content(prompt,\n",
        "                                  generation_config=creative_gen_config)\n",
        "print(response.text)"
      ],
      "metadata": {
        "colab": {
          "base_uri": "https://localhost:8080/"
        },
        "id": "p1nCZ_zL80S8",
        "executionInfo": {
          "status": "ok",
          "timestamp": 1731122696168,
          "user_tz": -420,
          "elapsed": 6872,
          "user": {
            "displayName": "",
            "userId": ""
          }
        },
        "outputId": "8ad5ee6e-ef71-4392-9cc2-7197540f2760"
      },
      "id": "p1nCZ_zL80S8",
      "execution_count": 6,
      "outputs": [
        {
          "output_type": "stream",
          "name": "stdout",
          "text": [
            "Writer's block is a common problem that can affect writers of all levels. There are a number of strategies that you can use to overcome writer's block, including:\n",
            "\n",
            "* **Taking a break:** Sometimes the best way to overcome writer's block is to simply take a break. Go for a walk, take a nap, or do something else that will take your mind off of writing for a while. When you come back to your work, you may find that your block has lifted.\n",
            "* **Freewriting:** Freewriting is a technique where you write continuously for a set period of time, without stopping to edit or revise your work. This can help you to get your creative juices flowing and to generate new ideas.\n",
            "* **Outlining:** Outlining your work can help you to organize your thoughts and to see the big picture. This can make it easier to get started writing and to stay on track.\n",
            "* **Brainstorming:** Brainstorming is a technique where you list all of the ideas that come to mind about a particular topic. This can help you to come up with new ideas and to see your topic from different perspectives.\n",
            "* **Talking to someone:** Talking to a friend, family member, or therapist about your writer's block can help you to gain some perspective and to develop new strategies for overcoming it.\n",
            "\n",
            "If you're struggling with writer's block, don't give up. There are a number of things you can do to get back on track and start writing again. Try some of the strategies above, and see what works best for you.\n"
          ]
        }
      ]
    },
    {
      "cell_type": "code",
      "source": [
        "prompt = \"Provide ten interview questions for the role of prompt engineer.\"\n",
        "\n",
        "response = model.generate_content(prompt,\n",
        "                                  generation_config=creative_gen_config)\n",
        "print(response.text)"
      ],
      "metadata": {
        "colab": {
          "base_uri": "https://localhost:8080/"
        },
        "id": "5j0vl51X8-RP",
        "executionInfo": {
          "status": "ok",
          "timestamp": 1731122773797,
          "user_tz": -420,
          "elapsed": 6528,
          "user": {
            "displayName": "",
            "userId": ""
          }
        },
        "outputId": "21a43d2b-424e-4f01-fe4b-acbf4142de4b"
      },
      "id": "5j0vl51X8-RP",
      "execution_count": 7,
      "outputs": [
        {
          "output_type": "stream",
          "name": "stdout",
          "text": [
            "## 10 Interview Questions for a Prompt Engineer Role:\n",
            "\n",
            "**1. Technical Skills:**\n",
            "\n",
            "* **Describe your experience with large language models (LLMs) like GPT-3, Jurassic-1 Jumbo, and Megatron-Turing NLG.** How have you used them in your previous work?\n",
            "* **Explain the concept of prompt engineering and its importance in achieving optimal results from LLMs.** \n",
            "* **How do you go about identifying the key information needed to generate a comprehensive and effective prompt?** \n",
            "* **Can you walk me through your process of iterating and refining prompts to achieve the desired outcome from an LLM?**\n",
            "* **Describe your experience with different prompt engineering techniques, such as chain-of-thought prompting, temperature manipulation, and few-shot learning.** \n",
            "\n",
            "**2. Problem-Solving and Critical Thinking:**\n",
            "\n",
            "* **Imagine you're tasked with creating a prompt to generate creative marketing copy for a new product. What factors would you consider when crafting this prompt?**\n",
            "* **You're working on a project where the LLM consistently produces outputs that are factually incorrect. How would you diagnose and address this issue?** \n",
            "* **Explain how you would ensure that your prompts are ethically sound and avoid generating biased or harmful outputs.** \n",
            "* **Describe a situation where you had to overcome a technical challenge related to prompt engineering. How did you approach the problem and what was the outcome?** \n",
            "\n",
            "**3. Communication and Collaboration:**\n",
            "\n",
            "* **How do you effectively communicate your prompt engineering strategies and results to technical and non-technical stakeholders?** \n",
            "* **Explain how you would collaborate with other engineers and data scientists to refine prompts and improve LLM performance.**\n",
            "* **Describe your experience working in a fast-paced environment with tight deadlines.**\n",
            "* **How do you stay informed about the latest advancements in prompt engineering and LLM technology?** \n",
            "\n",
            "\n",
            "\n",
            "These questions are designed to assess the candidate's technical expertise, problem-solving abilities, communication skills, and overall fit for the prompt engineer role. You can adjust them based on your specific needs and the desired level of experience for the position. \n",
            "\n"
          ]
        }
      ]
    },
    {
      "cell_type": "markdown",
      "source": [
        "# Task 4. Text Classification"
      ],
      "metadata": {
        "id": "tf3DiB5r9tqL"
      },
      "id": "tf3DiB5r9tqL"
    },
    {
      "cell_type": "code",
      "source": [
        "predictable_gen_config = GenerationConfig(temperature=0.1, top_p=0.1)"
      ],
      "metadata": {
        "id": "SnaOfZ3H9vpW",
        "executionInfo": {
          "status": "ok",
          "timestamp": 1731122949664,
          "user_tz": -420,
          "elapsed": 8,
          "user": {
            "displayName": "",
            "userId": ""
          }
        }
      },
      "id": "SnaOfZ3H9vpW",
      "execution_count": 8,
      "outputs": []
    },
    {
      "cell_type": "code",
      "source": [
        "prompt = \"\"\"\n",
        "Given a user's input, classify their intent, such as \"finding information\", \"making a reservation\", or \"placing an order\". \\n\n",
        "user input: Hi, can you please book a table for two at Juan for May 1?\n",
        "\"\"\"\n",
        "\n",
        "response = model.generate_content(\n",
        "    prompt, generation_config=predictable_gen_config\n",
        ")\n",
        "print(response.text)"
      ],
      "metadata": {
        "colab": {
          "base_uri": "https://localhost:8080/"
        },
        "id": "ts5J_en7993G",
        "executionInfo": {
          "status": "ok",
          "timestamp": 1731123000054,
          "user_tz": -420,
          "elapsed": 3499,
          "user": {
            "displayName": "",
            "userId": ""
          }
        },
        "outputId": "4135f6c1-2360-4662-8f6c-3c5068ea8340"
      },
      "id": "ts5J_en7993G",
      "execution_count": 9,
      "outputs": [
        {
          "output_type": "stream",
          "name": "stdout",
          "text": [
            "## Intent Classification: Making a Reservation \n",
            "\n",
            "The user's input indicates an intent to make a reservation. They specify the following details:\n",
            "\n",
            "* **Restaurant:** Juan\n",
            "* **Date:** May 1\n",
            "* **Party size:** Two people \n",
            "\n"
          ]
        }
      ]
    },
    {
      "cell_type": "code",
      "source": [
        "prompt = \"\"\"\n",
        "What is the topic for a given news headline? \\n\n",
        "- business \\n\n",
        "- entertainment \\n\n",
        "- health \\n\n",
        "- sports \\n\n",
        "- technology \\n\\n\n",
        "\n",
        "Text: Pixel 7 Pro Expert Hands On Review. \\n\n",
        "The answer is: technology \\n\n",
        "\n",
        "Text: Quit smoking? \\n\n",
        "The answer is: health \\n\n",
        "\n",
        "Text: Birdies or bogeys? Top 5 tips to hit under par \\n\n",
        "The answer is: sports \\n\n",
        "\n",
        "Text: Relief from local minimum-wage hike looking more remote \\n\n",
        "The answer is: business \\n\n",
        "\n",
        "Text: You won't guess who just arrived in Bari, Italy for the movie premiere. \\n\n",
        "The answer is:\n",
        "\"\"\"\n",
        "\n",
        "response = model.generate_content(\n",
        "    prompt, generation_config=predictable_gen_config\n",
        ")\n",
        "print(response.text)"
      ],
      "metadata": {
        "colab": {
          "base_uri": "https://localhost:8080/"
        },
        "id": "zHjWUkBO-JOm",
        "executionInfo": {
          "status": "ok",
          "timestamp": 1731123149367,
          "user_tz": -420,
          "elapsed": 1874,
          "user": {
            "displayName": "",
            "userId": ""
          }
        },
        "outputId": "b21dd0da-ee80-4c29-cff9-3e135e14b8b2"
      },
      "id": "zHjWUkBO-JOm",
      "execution_count": 10,
      "outputs": [
        {
          "output_type": "stream",
          "name": "stdout",
          "text": [
            "entertainment \n",
            "\n"
          ]
        }
      ]
    },
    {
      "cell_type": "code",
      "source": [
        "import pandas as pd\n",
        "from sklearn.metrics import classification_report\n",
        "\n",
        "review_data_df = pd.DataFrame(\n",
        "    {\n",
        "        \"review\": [\n",
        "            \"i love this product. it does have everything i am looking for!\",\n",
        "            \"all i can say is that you will be happy after buying this product\",\n",
        "            \"its way too expensive and not worth the price\",\n",
        "            \"i am feeling okay. its neither good nor too bad.\",\n",
        "        ],\n",
        "        \"sentiment_groundtruth\": [\"positive\", \"positive\", \"negative\", \"neutral\"],\n",
        "    }\n",
        ")\n",
        "\n",
        "review_data_df"
      ],
      "metadata": {
        "colab": {
          "base_uri": "https://localhost:8080/",
          "height": 175
        },
        "id": "lrjJUDxe-uOi",
        "executionInfo": {
          "status": "ok",
          "timestamp": 1731123261379,
          "user_tz": -420,
          "elapsed": 4315,
          "user": {
            "displayName": "",
            "userId": ""
          }
        },
        "outputId": "2c531e2e-65d6-46ed-bd93-9d71e0732d36"
      },
      "id": "lrjJUDxe-uOi",
      "execution_count": 11,
      "outputs": [
        {
          "output_type": "execute_result",
          "data": {
            "text/plain": [
              "                                              review sentiment_groundtruth\n",
              "0  i love this product. it does have everything i...              positive\n",
              "1  all i can say is that you will be happy after ...              positive\n",
              "2      its way too expensive and not worth the price              negative\n",
              "3   i am feeling okay. its neither good nor too bad.               neutral"
            ],
            "text/html": [
              "\n",
              "  <div id=\"df-4259544c-9223-468b-b74f-3db5c11b970c\" class=\"colab-df-container\">\n",
              "    <div>\n",
              "<style scoped>\n",
              "    .dataframe tbody tr th:only-of-type {\n",
              "        vertical-align: middle;\n",
              "    }\n",
              "\n",
              "    .dataframe tbody tr th {\n",
              "        vertical-align: top;\n",
              "    }\n",
              "\n",
              "    .dataframe thead th {\n",
              "        text-align: right;\n",
              "    }\n",
              "</style>\n",
              "<table border=\"1\" class=\"dataframe\">\n",
              "  <thead>\n",
              "    <tr style=\"text-align: right;\">\n",
              "      <th></th>\n",
              "      <th>review</th>\n",
              "      <th>sentiment_groundtruth</th>\n",
              "    </tr>\n",
              "  </thead>\n",
              "  <tbody>\n",
              "    <tr>\n",
              "      <th>0</th>\n",
              "      <td>i love this product. it does have everything i...</td>\n",
              "      <td>positive</td>\n",
              "    </tr>\n",
              "    <tr>\n",
              "      <th>1</th>\n",
              "      <td>all i can say is that you will be happy after ...</td>\n",
              "      <td>positive</td>\n",
              "    </tr>\n",
              "    <tr>\n",
              "      <th>2</th>\n",
              "      <td>its way too expensive and not worth the price</td>\n",
              "      <td>negative</td>\n",
              "    </tr>\n",
              "    <tr>\n",
              "      <th>3</th>\n",
              "      <td>i am feeling okay. its neither good nor too bad.</td>\n",
              "      <td>neutral</td>\n",
              "    </tr>\n",
              "  </tbody>\n",
              "</table>\n",
              "</div>\n",
              "    <div class=\"colab-df-buttons\">\n",
              "\n",
              "  <div class=\"colab-df-container\">\n",
              "    <button class=\"colab-df-convert\" onclick=\"convertToInteractive('df-4259544c-9223-468b-b74f-3db5c11b970c')\"\n",
              "            title=\"Convert this dataframe to an interactive table.\"\n",
              "            style=\"display:none;\">\n",
              "\n",
              "  <svg xmlns=\"http://www.w3.org/2000/svg\" height=\"24px\" viewBox=\"0 -960 960 960\">\n",
              "    <path d=\"M120-120v-720h720v720H120Zm60-500h600v-160H180v160Zm220 220h160v-160H400v160Zm0 220h160v-160H400v160ZM180-400h160v-160H180v160Zm440 0h160v-160H620v160ZM180-180h160v-160H180v160Zm440 0h160v-160H620v160Z\"/>\n",
              "  </svg>\n",
              "    </button>\n",
              "\n",
              "  <style>\n",
              "    .colab-df-container {\n",
              "      display:flex;\n",
              "      gap: 12px;\n",
              "    }\n",
              "\n",
              "    .colab-df-convert {\n",
              "      background-color: #E8F0FE;\n",
              "      border: none;\n",
              "      border-radius: 50%;\n",
              "      cursor: pointer;\n",
              "      display: none;\n",
              "      fill: #1967D2;\n",
              "      height: 32px;\n",
              "      padding: 0 0 0 0;\n",
              "      width: 32px;\n",
              "    }\n",
              "\n",
              "    .colab-df-convert:hover {\n",
              "      background-color: #E2EBFA;\n",
              "      box-shadow: 0px 1px 2px rgba(60, 64, 67, 0.3), 0px 1px 3px 1px rgba(60, 64, 67, 0.15);\n",
              "      fill: #174EA6;\n",
              "    }\n",
              "\n",
              "    .colab-df-buttons div {\n",
              "      margin-bottom: 4px;\n",
              "    }\n",
              "\n",
              "    [theme=dark] .colab-df-convert {\n",
              "      background-color: #3B4455;\n",
              "      fill: #D2E3FC;\n",
              "    }\n",
              "\n",
              "    [theme=dark] .colab-df-convert:hover {\n",
              "      background-color: #434B5C;\n",
              "      box-shadow: 0px 1px 3px 1px rgba(0, 0, 0, 0.15);\n",
              "      filter: drop-shadow(0px 1px 2px rgba(0, 0, 0, 0.3));\n",
              "      fill: #FFFFFF;\n",
              "    }\n",
              "  </style>\n",
              "\n",
              "    <script>\n",
              "      const buttonEl =\n",
              "        document.querySelector('#df-4259544c-9223-468b-b74f-3db5c11b970c button.colab-df-convert');\n",
              "      buttonEl.style.display =\n",
              "        google.colab.kernel.accessAllowed ? 'block' : 'none';\n",
              "\n",
              "      async function convertToInteractive(key) {\n",
              "        const element = document.querySelector('#df-4259544c-9223-468b-b74f-3db5c11b970c');\n",
              "        const dataTable =\n",
              "          await google.colab.kernel.invokeFunction('convertToInteractive',\n",
              "                                                    [key], {});\n",
              "        if (!dataTable) return;\n",
              "\n",
              "        const docLinkHtml = 'Like what you see? Visit the ' +\n",
              "          '<a target=\"_blank\" href=https://colab.research.google.com/notebooks/data_table.ipynb>data table notebook</a>'\n",
              "          + ' to learn more about interactive tables.';\n",
              "        element.innerHTML = '';\n",
              "        dataTable['output_type'] = 'display_data';\n",
              "        await google.colab.output.renderOutput(dataTable, element);\n",
              "        const docLink = document.createElement('div');\n",
              "        docLink.innerHTML = docLinkHtml;\n",
              "        element.appendChild(docLink);\n",
              "      }\n",
              "    </script>\n",
              "  </div>\n",
              "\n",
              "\n",
              "<div id=\"df-1e381f3a-5301-4378-8eb4-c35d45dfdc35\">\n",
              "  <button class=\"colab-df-quickchart\" onclick=\"quickchart('df-1e381f3a-5301-4378-8eb4-c35d45dfdc35')\"\n",
              "            title=\"Suggest charts\"\n",
              "            style=\"display:none;\">\n",
              "\n",
              "<svg xmlns=\"http://www.w3.org/2000/svg\" height=\"24px\"viewBox=\"0 0 24 24\"\n",
              "     width=\"24px\">\n",
              "    <g>\n",
              "        <path d=\"M19 3H5c-1.1 0-2 .9-2 2v14c0 1.1.9 2 2 2h14c1.1 0 2-.9 2-2V5c0-1.1-.9-2-2-2zM9 17H7v-7h2v7zm4 0h-2V7h2v10zm4 0h-2v-4h2v4z\"/>\n",
              "    </g>\n",
              "</svg>\n",
              "  </button>\n",
              "\n",
              "<style>\n",
              "  .colab-df-quickchart {\n",
              "      --bg-color: #E8F0FE;\n",
              "      --fill-color: #1967D2;\n",
              "      --hover-bg-color: #E2EBFA;\n",
              "      --hover-fill-color: #174EA6;\n",
              "      --disabled-fill-color: #AAA;\n",
              "      --disabled-bg-color: #DDD;\n",
              "  }\n",
              "\n",
              "  [theme=dark] .colab-df-quickchart {\n",
              "      --bg-color: #3B4455;\n",
              "      --fill-color: #D2E3FC;\n",
              "      --hover-bg-color: #434B5C;\n",
              "      --hover-fill-color: #FFFFFF;\n",
              "      --disabled-bg-color: #3B4455;\n",
              "      --disabled-fill-color: #666;\n",
              "  }\n",
              "\n",
              "  .colab-df-quickchart {\n",
              "    background-color: var(--bg-color);\n",
              "    border: none;\n",
              "    border-radius: 50%;\n",
              "    cursor: pointer;\n",
              "    display: none;\n",
              "    fill: var(--fill-color);\n",
              "    height: 32px;\n",
              "    padding: 0;\n",
              "    width: 32px;\n",
              "  }\n",
              "\n",
              "  .colab-df-quickchart:hover {\n",
              "    background-color: var(--hover-bg-color);\n",
              "    box-shadow: 0 1px 2px rgba(60, 64, 67, 0.3), 0 1px 3px 1px rgba(60, 64, 67, 0.15);\n",
              "    fill: var(--button-hover-fill-color);\n",
              "  }\n",
              "\n",
              "  .colab-df-quickchart-complete:disabled,\n",
              "  .colab-df-quickchart-complete:disabled:hover {\n",
              "    background-color: var(--disabled-bg-color);\n",
              "    fill: var(--disabled-fill-color);\n",
              "    box-shadow: none;\n",
              "  }\n",
              "\n",
              "  .colab-df-spinner {\n",
              "    border: 2px solid var(--fill-color);\n",
              "    border-color: transparent;\n",
              "    border-bottom-color: var(--fill-color);\n",
              "    animation:\n",
              "      spin 1s steps(1) infinite;\n",
              "  }\n",
              "\n",
              "  @keyframes spin {\n",
              "    0% {\n",
              "      border-color: transparent;\n",
              "      border-bottom-color: var(--fill-color);\n",
              "      border-left-color: var(--fill-color);\n",
              "    }\n",
              "    20% {\n",
              "      border-color: transparent;\n",
              "      border-left-color: var(--fill-color);\n",
              "      border-top-color: var(--fill-color);\n",
              "    }\n",
              "    30% {\n",
              "      border-color: transparent;\n",
              "      border-left-color: var(--fill-color);\n",
              "      border-top-color: var(--fill-color);\n",
              "      border-right-color: var(--fill-color);\n",
              "    }\n",
              "    40% {\n",
              "      border-color: transparent;\n",
              "      border-right-color: var(--fill-color);\n",
              "      border-top-color: var(--fill-color);\n",
              "    }\n",
              "    60% {\n",
              "      border-color: transparent;\n",
              "      border-right-color: var(--fill-color);\n",
              "    }\n",
              "    80% {\n",
              "      border-color: transparent;\n",
              "      border-right-color: var(--fill-color);\n",
              "      border-bottom-color: var(--fill-color);\n",
              "    }\n",
              "    90% {\n",
              "      border-color: transparent;\n",
              "      border-bottom-color: var(--fill-color);\n",
              "    }\n",
              "  }\n",
              "</style>\n",
              "\n",
              "  <script>\n",
              "    async function quickchart(key) {\n",
              "      const quickchartButtonEl =\n",
              "        document.querySelector('#' + key + ' button');\n",
              "      quickchartButtonEl.disabled = true;  // To prevent multiple clicks.\n",
              "      quickchartButtonEl.classList.add('colab-df-spinner');\n",
              "      try {\n",
              "        const charts = await google.colab.kernel.invokeFunction(\n",
              "            'suggestCharts', [key], {});\n",
              "      } catch (error) {\n",
              "        console.error('Error during call to suggestCharts:', error);\n",
              "      }\n",
              "      quickchartButtonEl.classList.remove('colab-df-spinner');\n",
              "      quickchartButtonEl.classList.add('colab-df-quickchart-complete');\n",
              "    }\n",
              "    (() => {\n",
              "      let quickchartButtonEl =\n",
              "        document.querySelector('#df-1e381f3a-5301-4378-8eb4-c35d45dfdc35 button');\n",
              "      quickchartButtonEl.style.display =\n",
              "        google.colab.kernel.accessAllowed ? 'block' : 'none';\n",
              "    })();\n",
              "  </script>\n",
              "</div>\n",
              "    </div>\n",
              "  </div>\n"
            ]
          },
          "metadata": {},
          "execution_count": 11
        }
      ]
    },
    {
      "cell_type": "code",
      "source": [
        "def get_sentiment(row):\n",
        "    prompt = f\"\"\"Classify the sentiment of the following review as \"positive\", \"neutral\" or \"negative\". Return only the classification.\n",
        "                review: {row}\n",
        "              \"\"\"\n",
        "    response = model.generate_content(\n",
        "        contents=prompt, generation_config=predictable_gen_config\n",
        "    ).text\n",
        "    return response\n",
        "\n",
        "\n",
        "review_data_df[\"sentiment_prediction\"] = review_data_df[\"review\"].apply(get_sentiment)\n",
        "review_data_df"
      ],
      "metadata": {
        "colab": {
          "base_uri": "https://localhost:8080/",
          "height": 244
        },
        "id": "Kd5yOfnk_IqS",
        "executionInfo": {
          "status": "ok",
          "timestamp": 1731123311141,
          "user_tz": -420,
          "elapsed": 1651,
          "user": {
            "displayName": "",
            "userId": ""
          }
        },
        "outputId": "88b4ba44-3942-4e74-ec96-e6710fe5fb8b"
      },
      "id": "Kd5yOfnk_IqS",
      "execution_count": 12,
      "outputs": [
        {
          "output_type": "execute_result",
          "data": {
            "text/plain": [
              "                                              review sentiment_groundtruth  \\\n",
              "0  i love this product. it does have everything i...              positive   \n",
              "1  all i can say is that you will be happy after ...              positive   \n",
              "2      its way too expensive and not worth the price              negative   \n",
              "3   i am feeling okay. its neither good nor too bad.               neutral   \n",
              "\n",
              "  sentiment_prediction  \n",
              "0             positive  \n",
              "1             positive  \n",
              "2             negative  \n",
              "3              neutral  "
            ],
            "text/html": [
              "\n",
              "  <div id=\"df-a009986d-5aa2-412e-817a-26ed1623d5f0\" class=\"colab-df-container\">\n",
              "    <div>\n",
              "<style scoped>\n",
              "    .dataframe tbody tr th:only-of-type {\n",
              "        vertical-align: middle;\n",
              "    }\n",
              "\n",
              "    .dataframe tbody tr th {\n",
              "        vertical-align: top;\n",
              "    }\n",
              "\n",
              "    .dataframe thead th {\n",
              "        text-align: right;\n",
              "    }\n",
              "</style>\n",
              "<table border=\"1\" class=\"dataframe\">\n",
              "  <thead>\n",
              "    <tr style=\"text-align: right;\">\n",
              "      <th></th>\n",
              "      <th>review</th>\n",
              "      <th>sentiment_groundtruth</th>\n",
              "      <th>sentiment_prediction</th>\n",
              "    </tr>\n",
              "  </thead>\n",
              "  <tbody>\n",
              "    <tr>\n",
              "      <th>0</th>\n",
              "      <td>i love this product. it does have everything i...</td>\n",
              "      <td>positive</td>\n",
              "      <td>positive</td>\n",
              "    </tr>\n",
              "    <tr>\n",
              "      <th>1</th>\n",
              "      <td>all i can say is that you will be happy after ...</td>\n",
              "      <td>positive</td>\n",
              "      <td>positive</td>\n",
              "    </tr>\n",
              "    <tr>\n",
              "      <th>2</th>\n",
              "      <td>its way too expensive and not worth the price</td>\n",
              "      <td>negative</td>\n",
              "      <td>negative</td>\n",
              "    </tr>\n",
              "    <tr>\n",
              "      <th>3</th>\n",
              "      <td>i am feeling okay. its neither good nor too bad.</td>\n",
              "      <td>neutral</td>\n",
              "      <td>neutral</td>\n",
              "    </tr>\n",
              "  </tbody>\n",
              "</table>\n",
              "</div>\n",
              "    <div class=\"colab-df-buttons\">\n",
              "\n",
              "  <div class=\"colab-df-container\">\n",
              "    <button class=\"colab-df-convert\" onclick=\"convertToInteractive('df-a009986d-5aa2-412e-817a-26ed1623d5f0')\"\n",
              "            title=\"Convert this dataframe to an interactive table.\"\n",
              "            style=\"display:none;\">\n",
              "\n",
              "  <svg xmlns=\"http://www.w3.org/2000/svg\" height=\"24px\" viewBox=\"0 -960 960 960\">\n",
              "    <path d=\"M120-120v-720h720v720H120Zm60-500h600v-160H180v160Zm220 220h160v-160H400v160Zm0 220h160v-160H400v160ZM180-400h160v-160H180v160Zm440 0h160v-160H620v160ZM180-180h160v-160H180v160Zm440 0h160v-160H620v160Z\"/>\n",
              "  </svg>\n",
              "    </button>\n",
              "\n",
              "  <style>\n",
              "    .colab-df-container {\n",
              "      display:flex;\n",
              "      gap: 12px;\n",
              "    }\n",
              "\n",
              "    .colab-df-convert {\n",
              "      background-color: #E8F0FE;\n",
              "      border: none;\n",
              "      border-radius: 50%;\n",
              "      cursor: pointer;\n",
              "      display: none;\n",
              "      fill: #1967D2;\n",
              "      height: 32px;\n",
              "      padding: 0 0 0 0;\n",
              "      width: 32px;\n",
              "    }\n",
              "\n",
              "    .colab-df-convert:hover {\n",
              "      background-color: #E2EBFA;\n",
              "      box-shadow: 0px 1px 2px rgba(60, 64, 67, 0.3), 0px 1px 3px 1px rgba(60, 64, 67, 0.15);\n",
              "      fill: #174EA6;\n",
              "    }\n",
              "\n",
              "    .colab-df-buttons div {\n",
              "      margin-bottom: 4px;\n",
              "    }\n",
              "\n",
              "    [theme=dark] .colab-df-convert {\n",
              "      background-color: #3B4455;\n",
              "      fill: #D2E3FC;\n",
              "    }\n",
              "\n",
              "    [theme=dark] .colab-df-convert:hover {\n",
              "      background-color: #434B5C;\n",
              "      box-shadow: 0px 1px 3px 1px rgba(0, 0, 0, 0.15);\n",
              "      filter: drop-shadow(0px 1px 2px rgba(0, 0, 0, 0.3));\n",
              "      fill: #FFFFFF;\n",
              "    }\n",
              "  </style>\n",
              "\n",
              "    <script>\n",
              "      const buttonEl =\n",
              "        document.querySelector('#df-a009986d-5aa2-412e-817a-26ed1623d5f0 button.colab-df-convert');\n",
              "      buttonEl.style.display =\n",
              "        google.colab.kernel.accessAllowed ? 'block' : 'none';\n",
              "\n",
              "      async function convertToInteractive(key) {\n",
              "        const element = document.querySelector('#df-a009986d-5aa2-412e-817a-26ed1623d5f0');\n",
              "        const dataTable =\n",
              "          await google.colab.kernel.invokeFunction('convertToInteractive',\n",
              "                                                    [key], {});\n",
              "        if (!dataTable) return;\n",
              "\n",
              "        const docLinkHtml = 'Like what you see? Visit the ' +\n",
              "          '<a target=\"_blank\" href=https://colab.research.google.com/notebooks/data_table.ipynb>data table notebook</a>'\n",
              "          + ' to learn more about interactive tables.';\n",
              "        element.innerHTML = '';\n",
              "        dataTable['output_type'] = 'display_data';\n",
              "        await google.colab.output.renderOutput(dataTable, element);\n",
              "        const docLink = document.createElement('div');\n",
              "        docLink.innerHTML = docLinkHtml;\n",
              "        element.appendChild(docLink);\n",
              "      }\n",
              "    </script>\n",
              "  </div>\n",
              "\n",
              "\n",
              "<div id=\"df-7faa3a28-e801-4b20-bdc8-8a89324b8e2a\">\n",
              "  <button class=\"colab-df-quickchart\" onclick=\"quickchart('df-7faa3a28-e801-4b20-bdc8-8a89324b8e2a')\"\n",
              "            title=\"Suggest charts\"\n",
              "            style=\"display:none;\">\n",
              "\n",
              "<svg xmlns=\"http://www.w3.org/2000/svg\" height=\"24px\"viewBox=\"0 0 24 24\"\n",
              "     width=\"24px\">\n",
              "    <g>\n",
              "        <path d=\"M19 3H5c-1.1 0-2 .9-2 2v14c0 1.1.9 2 2 2h14c1.1 0 2-.9 2-2V5c0-1.1-.9-2-2-2zM9 17H7v-7h2v7zm4 0h-2V7h2v10zm4 0h-2v-4h2v4z\"/>\n",
              "    </g>\n",
              "</svg>\n",
              "  </button>\n",
              "\n",
              "<style>\n",
              "  .colab-df-quickchart {\n",
              "      --bg-color: #E8F0FE;\n",
              "      --fill-color: #1967D2;\n",
              "      --hover-bg-color: #E2EBFA;\n",
              "      --hover-fill-color: #174EA6;\n",
              "      --disabled-fill-color: #AAA;\n",
              "      --disabled-bg-color: #DDD;\n",
              "  }\n",
              "\n",
              "  [theme=dark] .colab-df-quickchart {\n",
              "      --bg-color: #3B4455;\n",
              "      --fill-color: #D2E3FC;\n",
              "      --hover-bg-color: #434B5C;\n",
              "      --hover-fill-color: #FFFFFF;\n",
              "      --disabled-bg-color: #3B4455;\n",
              "      --disabled-fill-color: #666;\n",
              "  }\n",
              "\n",
              "  .colab-df-quickchart {\n",
              "    background-color: var(--bg-color);\n",
              "    border: none;\n",
              "    border-radius: 50%;\n",
              "    cursor: pointer;\n",
              "    display: none;\n",
              "    fill: var(--fill-color);\n",
              "    height: 32px;\n",
              "    padding: 0;\n",
              "    width: 32px;\n",
              "  }\n",
              "\n",
              "  .colab-df-quickchart:hover {\n",
              "    background-color: var(--hover-bg-color);\n",
              "    box-shadow: 0 1px 2px rgba(60, 64, 67, 0.3), 0 1px 3px 1px rgba(60, 64, 67, 0.15);\n",
              "    fill: var(--button-hover-fill-color);\n",
              "  }\n",
              "\n",
              "  .colab-df-quickchart-complete:disabled,\n",
              "  .colab-df-quickchart-complete:disabled:hover {\n",
              "    background-color: var(--disabled-bg-color);\n",
              "    fill: var(--disabled-fill-color);\n",
              "    box-shadow: none;\n",
              "  }\n",
              "\n",
              "  .colab-df-spinner {\n",
              "    border: 2px solid var(--fill-color);\n",
              "    border-color: transparent;\n",
              "    border-bottom-color: var(--fill-color);\n",
              "    animation:\n",
              "      spin 1s steps(1) infinite;\n",
              "  }\n",
              "\n",
              "  @keyframes spin {\n",
              "    0% {\n",
              "      border-color: transparent;\n",
              "      border-bottom-color: var(--fill-color);\n",
              "      border-left-color: var(--fill-color);\n",
              "    }\n",
              "    20% {\n",
              "      border-color: transparent;\n",
              "      border-left-color: var(--fill-color);\n",
              "      border-top-color: var(--fill-color);\n",
              "    }\n",
              "    30% {\n",
              "      border-color: transparent;\n",
              "      border-left-color: var(--fill-color);\n",
              "      border-top-color: var(--fill-color);\n",
              "      border-right-color: var(--fill-color);\n",
              "    }\n",
              "    40% {\n",
              "      border-color: transparent;\n",
              "      border-right-color: var(--fill-color);\n",
              "      border-top-color: var(--fill-color);\n",
              "    }\n",
              "    60% {\n",
              "      border-color: transparent;\n",
              "      border-right-color: var(--fill-color);\n",
              "    }\n",
              "    80% {\n",
              "      border-color: transparent;\n",
              "      border-right-color: var(--fill-color);\n",
              "      border-bottom-color: var(--fill-color);\n",
              "    }\n",
              "    90% {\n",
              "      border-color: transparent;\n",
              "      border-bottom-color: var(--fill-color);\n",
              "    }\n",
              "  }\n",
              "</style>\n",
              "\n",
              "  <script>\n",
              "    async function quickchart(key) {\n",
              "      const quickchartButtonEl =\n",
              "        document.querySelector('#' + key + ' button');\n",
              "      quickchartButtonEl.disabled = true;  // To prevent multiple clicks.\n",
              "      quickchartButtonEl.classList.add('colab-df-spinner');\n",
              "      try {\n",
              "        const charts = await google.colab.kernel.invokeFunction(\n",
              "            'suggestCharts', [key], {});\n",
              "      } catch (error) {\n",
              "        console.error('Error during call to suggestCharts:', error);\n",
              "      }\n",
              "      quickchartButtonEl.classList.remove('colab-df-spinner');\n",
              "      quickchartButtonEl.classList.add('colab-df-quickchart-complete');\n",
              "    }\n",
              "    (() => {\n",
              "      let quickchartButtonEl =\n",
              "        document.querySelector('#df-7faa3a28-e801-4b20-bdc8-8a89324b8e2a button');\n",
              "      quickchartButtonEl.style.display =\n",
              "        google.colab.kernel.accessAllowed ? 'block' : 'none';\n",
              "    })();\n",
              "  </script>\n",
              "</div>\n",
              "    </div>\n",
              "  </div>\n"
            ]
          },
          "metadata": {},
          "execution_count": 12
        }
      ]
    },
    {
      "cell_type": "code",
      "source": [
        "report = classification_report(\n",
        "    review_data_df[\"sentiment_groundtruth\"], review_data_df[\"sentiment_prediction\"]\n",
        ")\n",
        "Markdown(report)"
      ],
      "metadata": {
        "colab": {
          "base_uri": "https://localhost:8080/",
          "height": 168
        },
        "id": "DbWbB3tE_Vxg",
        "executionInfo": {
          "status": "ok",
          "timestamp": 1731123344260,
          "user_tz": -420,
          "elapsed": 10,
          "user": {
            "displayName": "",
            "userId": ""
          }
        },
        "outputId": "6d438f95-7427-4229-bf0c-025296181f23"
      },
      "id": "DbWbB3tE_Vxg",
      "execution_count": 13,
      "outputs": [
        {
          "output_type": "execute_result",
          "data": {
            "text/plain": [
              "<IPython.core.display.Markdown object>"
            ],
            "text/markdown": "              precision    recall  f1-score   support\n\n    negative       1.00      1.00      1.00         1\n     neutral       1.00      1.00      1.00         1\n    positive       1.00      1.00      1.00         2\n\n    accuracy                           1.00         4\n   macro avg       1.00      1.00      1.00         4\nweighted avg       1.00      1.00      1.00         4\n"
          },
          "metadata": {},
          "execution_count": 13
        }
      ]
    },
    {
      "cell_type": "markdown",
      "source": [
        "# Task 5. Text Summarization"
      ],
      "metadata": {
        "id": "HsCzFbYM_jta"
      },
      "id": "HsCzFbYM_jta"
    },
    {
      "cell_type": "code",
      "source": [
        "predictable_gen_config = GenerationConfig(temperature=0.1, top_p=0.1)"
      ],
      "metadata": {
        "id": "Flh2vjW6_duk",
        "executionInfo": {
          "status": "ok",
          "timestamp": 1731123466412,
          "user_tz": -420,
          "elapsed": 659,
          "user": {
            "displayName": "",
            "userId": ""
          }
        }
      },
      "id": "Flh2vjW6_duk",
      "execution_count": 14,
      "outputs": []
    },
    {
      "cell_type": "code",
      "source": [
        "prompt = \"\"\"\n",
        "Provide a very short summary, no more than three sentences, for the following article:\n",
        "\n",
        "Our quantum computers work by manipulating qubits in an orchestrated fashion that we call quantum algorithms.\n",
        "The challenge is that qubits are so sensitive that even stray light can cause calculation errors — and the problem worsens as quantum computers grow.\n",
        "This has significant consequences, since the best quantum algorithms that we know for running useful applications require the error rates of our qubits to be far lower than we have today.\n",
        "To bridge this gap, we will need quantum error correction.\n",
        "Quantum error correction protects information by encoding it across multiple physical qubits to form a \"logical qubit,\" and is believed to be the only way to produce a large-scale quantum computer with error rates low enough for useful calculations.\n",
        "Instead of computing on the individual qubits themselves, we will then compute on logical qubits. By encoding larger numbers of physical qubits on our quantum processor into one logical qubit, we hope to reduce the error rates to enable useful quantum algorithms.\n",
        "\n",
        "Summary:\n",
        "\n",
        "\"\"\"\n",
        "\n",
        "response = model.generate_content(\n",
        "    prompt, generation_config=predictable_gen_config\n",
        ")\n",
        "print(response.text)"
      ],
      "metadata": {
        "colab": {
          "base_uri": "https://localhost:8080/"
        },
        "id": "1236bwcI_8UR",
        "executionInfo": {
          "status": "ok",
          "timestamp": 1731123500776,
          "user_tz": -420,
          "elapsed": 591,
          "user": {
            "displayName": "",
            "userId": ""
          }
        },
        "outputId": "fd4b9d79-7bca-49f4-9aa6-e7db3ac7ea5f"
      },
      "id": "1236bwcI_8UR",
      "execution_count": 15,
      "outputs": [
        {
          "output_type": "stream",
          "name": "stdout",
          "text": [
            "Quantum computers are sensitive to errors, which can be mitigated by using quantum error correction. This technique encodes information across multiple qubits, creating a \"logical qubit\" with lower error rates. By using logical qubits, quantum computers can achieve the accuracy needed for useful calculations. \n",
            "\n"
          ]
        }
      ]
    },
    {
      "cell_type": "code",
      "source": [
        "prompt = \"\"\"\n",
        "Provide a very short summary in four bullet points for the following article:\n",
        "\n",
        "Our quantum computers work by manipulating qubits in an orchestrated fashion that we call quantum algorithms.\n",
        "The challenge is that qubits are so sensitive that even stray light can cause calculation errors — and the problem worsens as quantum computers grow.\n",
        "This has significant consequences, since the best quantum algorithms that we know for running useful applications require the error rates of our qubits to be far lower than we have today.\n",
        "To bridge this gap, we will need quantum error correction.\n",
        "Quantum error correction protects information by encoding it across multiple physical qubits to form a \"logical qubit,\" and is believed to be the only way to produce a large-scale quantum computer with error rates low enough for useful calculations.\n",
        "Instead of computing on the individual qubits themselves, we will then compute on logical qubits. By encoding larger numbers of physical qubits on our quantum processor into one logical qubit, we hope to reduce the error rates to enable useful quantum algorithms.\n",
        "\n",
        "Bullet points:\n",
        "\n",
        "\"\"\"\n",
        "\n",
        "response = model.generate_content(\n",
        "    contents=prompt, generation_config=predictable_gen_config\n",
        ")\n",
        "Markdown(response.text)"
      ],
      "metadata": {
        "colab": {
          "base_uri": "https://localhost:8080/",
          "height": 177
        },
        "id": "Pq7tRS8-AEOV",
        "executionInfo": {
          "status": "ok",
          "timestamp": 1731123554757,
          "user_tz": -420,
          "elapsed": 2685,
          "user": {
            "displayName": "",
            "userId": ""
          }
        },
        "outputId": "fc66c8cb-91b8-436b-a2b0-0bbabd43db0a"
      },
      "id": "Pq7tRS8-AEOV",
      "execution_count": 16,
      "outputs": [
        {
          "output_type": "execute_result",
          "data": {
            "text/plain": [
              "<IPython.core.display.Markdown object>"
            ],
            "text/markdown": "## Summary of the article in four bullet points:\n\n* **Quantum computers are sensitive:** Even small disturbances can cause errors in calculations.\n* **Error rates are a major challenge:** Current error rates are too high for useful applications.\n* **Quantum error correction is the solution:** It protects information by encoding it across multiple qubits.\n* **Logical qubits will enable useful algorithms:** By reducing error rates, we can run complex algorithms on quantum computers. \n"
          },
          "metadata": {},
          "execution_count": 16
        }
      ]
    },
    {
      "cell_type": "code",
      "source": [
        "prompt = \"\"\"\n",
        "Please generate a summary of the following conversation and at the end summarize the to-do's for the support Agent:\n",
        "\n",
        "Customer: Hi, I'm Larry, and I received the wrong item.\n",
        "\n",
        "Support Agent: Hi, Larry. How would you like to see this resolved?\n",
        "\n",
        "Customer: That's alright. I want to return the item and get a refund, please.\n",
        "\n",
        "Support Agent: Of course. I can process the refund for you now. Can I have your order number, please?\n",
        "\n",
        "Customer: It's [ORDER NUMBER].\n",
        "\n",
        "Support Agent: Thank you. I've processed the refund, and you will receive your money back within 14 days.\n",
        "\n",
        "Customer: Thank you very much.\n",
        "\n",
        "Support Agent: You're welcome, Larry. Have a good day!\n",
        "\n",
        "Summary:\n",
        "\"\"\"\n",
        "\n",
        "response = model.generate_content(\n",
        "    contents=prompt, generation_config=predictable_gen_config\n",
        ")\n",
        "Markdown(response.text)"
      ],
      "metadata": {
        "colab": {
          "base_uri": "https://localhost:8080/",
          "height": 278
        },
        "id": "spjRwBQKARBt",
        "executionInfo": {
          "status": "ok",
          "timestamp": 1731123597343,
          "user_tz": -420,
          "elapsed": 1822,
          "user": {
            "displayName": "",
            "userId": ""
          }
        },
        "outputId": "7c32b87e-9fe7-4fef-9df8-23ebe3947635"
      },
      "id": "spjRwBQKARBt",
      "execution_count": 17,
      "outputs": [
        {
          "output_type": "execute_result",
          "data": {
            "text/plain": [
              "<IPython.core.display.Markdown object>"
            ],
            "text/markdown": "## Summary of Conversation:\n\n* **Customer:** Larry received the wrong item.\n* **Desired Resolution:** Larry wants to return the item and receive a refund.\n* **Order Number:** [ORDER NUMBER]\n* **Resolution:** The Support Agent processed the refund. \n* **Refund Timeline:** Larry will receive the refund within 14 days.\n\n## To-Do's for Support Agent:\n\n* **Confirm:** Verify with Larry that the refund amount and timeline are correct.\n* **Provide Instructions:** Inform Larry about the return process (e.g., return label, shipping instructions).\n* **Follow-up:** Check with Larry in a few days to ensure he received the refund and confirm his satisfaction. \n"
          },
          "metadata": {},
          "execution_count": 17
        }
      ]
    },
    {
      "cell_type": "markdown",
      "source": [
        "# Task 6. Text Extraction"
      ],
      "metadata": {
        "id": "HnNmrKHrAnBZ"
      },
      "id": "HnNmrKHrAnBZ"
    },
    {
      "cell_type": "code",
      "source": [
        "order = \"We need eight grilled cheese sandwiches. Two with swiss cheese, three with muenster, three with cheddar.\"\n",
        "\n",
        "prompt = \"\"\"\n",
        "    Break the customer's order into individual items with keys for the following fields:\n",
        "    - item_name\n",
        "    - cheese_selection\n",
        "\n",
        "    Order:\n",
        "    {order_field}\n",
        "\"\"\".format(order_field=order)\n",
        "\n",
        "response = model.generate_content(\n",
        "    contents=prompt, generation_config=predictable_gen_config\n",
        ")\n",
        "print(response.text)"
      ],
      "metadata": {
        "colab": {
          "base_uri": "https://localhost:8080/"
        },
        "id": "2KRQUJ51AbUS",
        "executionInfo": {
          "status": "ok",
          "timestamp": 1731123743184,
          "user_tz": -420,
          "elapsed": 3493,
          "user": {
            "displayName": "",
            "userId": ""
          }
        },
        "outputId": "3cbefd34-f5d1-46e0-9373-da25a30c1f8b"
      },
      "id": "2KRQUJ51AbUS",
      "execution_count": 18,
      "outputs": [
        {
          "output_type": "stream",
          "name": "stdout",
          "text": [
            "```json\n",
            "[\n",
            "  {\n",
            "    \"item_name\": \"Grilled Cheese Sandwich\",\n",
            "    \"cheese_selection\": \"Swiss\"\n",
            "  },\n",
            "  {\n",
            "    \"item_name\": \"Grilled Cheese Sandwich\",\n",
            "    \"cheese_selection\": \"Swiss\"\n",
            "  },\n",
            "  {\n",
            "    \"item_name\": \"Grilled Cheese Sandwich\",\n",
            "    \"cheese_selection\": \"Muenster\"\n",
            "  },\n",
            "  {\n",
            "    \"item_name\": \"Grilled Cheese Sandwich\",\n",
            "    \"cheese_selection\": \"Muenster\"\n",
            "  },\n",
            "  {\n",
            "    \"item_name\": \"Grilled Cheese Sandwich\",\n",
            "    \"cheese_selection\": \"Muenster\"\n",
            "  },\n",
            "  {\n",
            "    \"item_name\": \"Grilled Cheese Sandwich\",\n",
            "    \"cheese_selection\": \"Cheddar\"\n",
            "  },\n",
            "  {\n",
            "    \"item_name\": \"Grilled Cheese Sandwich\",\n",
            "    \"cheese_selection\": \"Cheddar\"\n",
            "  },\n",
            "  {\n",
            "    \"item_name\": \"Grilled Cheese Sandwich\",\n",
            "    \"cheese_selection\": \"Cheddar\"\n",
            "  }\n",
            "]\n",
            "```\n"
          ]
        }
      ]
    },
    {
      "cell_type": "markdown",
      "source": [
        "# Task 7. Question Answering"
      ],
      "metadata": {
        "id": "zHDJT0pjBJGi"
      },
      "id": "zHDJT0pjBJGi"
    },
    {
      "cell_type": "code",
      "source": [
        "prompt = \"\"\"Q: Who was President of the United States in 1955?\n",
        "              Which party did he belong to?\n",
        "            A:\n",
        "        \"\"\"\n",
        "response = model.generate_content(\n",
        "    contents=prompt, generation_config=predictable_gen_config\n",
        ")\n",
        "print(response.text)"
      ],
      "metadata": {
        "colab": {
          "base_uri": "https://localhost:8080/"
        },
        "id": "Q2UjJJyoA-wt",
        "executionInfo": {
          "status": "ok",
          "timestamp": 1731123861334,
          "user_tz": -420,
          "elapsed": 1646,
          "user": {
            "displayName": "",
            "userId": ""
          }
        },
        "outputId": "13470ada-32d9-40e9-c1ec-ce5efe4cf286"
      },
      "id": "Q2UjJJyoA-wt",
      "execution_count": 19,
      "outputs": [
        {
          "output_type": "stream",
          "name": "stdout",
          "text": [
            "## Who was President of the United States in 1955?\n",
            "\n",
            "In 1955, the President of the United States was **Dwight D. Eisenhower**. \n",
            "\n",
            "## Which party did he belong to?\n",
            "\n",
            "Dwight D. Eisenhower belonged to the **Republican Party**. \n",
            "\n"
          ]
        }
      ]
    },
    {
      "cell_type": "code",
      "source": [
        "context = \"\"\"\n",
        "Storage and content policy \\n\n",
        "How durable is my data in Cloud Storage? \\n\n",
        "Cloud Storage is designed for 99.999999999% (11 9's) annual durability, which is appropriate for even primary storage and\n",
        "business-critical applications. This high durability level is achieved through erasure coding that stores data pieces redundantly\n",
        "across multiple devices located in multiple availability zones.\n",
        "Objects written to Cloud Storage must be redundantly stored in at least two different availability zones before the\n",
        "write is acknowledged as successful. Checksums are stored and regularly revalidated to proactively verify that the data\n",
        "integrity of all data at rest as well as to detect corruption of data in transit. If required, corrections are automatically\n",
        "made using redundant data. Customers can optionally enable object versioning to add protection against accidental deletion.\n",
        "\"\"\"\n",
        "\n",
        "question = \"How is high availability achieved?\"\n",
        "\n",
        "prompt = f\"\"\"Answer the question given in the contex below:\n",
        "Context: {context}?\\n\n",
        "Question: {question} \\n\n",
        "Answer:\n",
        "\"\"\"\n",
        "\n",
        "print(\"[Prompt]\")\n",
        "print(prompt)\n",
        "\n",
        "print(\"[Response]\")\n",
        "response = model.generate_content(contents=prompt, generation_config=predictable_gen_config)\n",
        "print(response.text)"
      ],
      "metadata": {
        "colab": {
          "base_uri": "https://localhost:8080/"
        },
        "id": "wq0xdp_LBcRR",
        "executionInfo": {
          "status": "ok",
          "timestamp": 1731123909267,
          "user_tz": -420,
          "elapsed": 3488,
          "user": {
            "displayName": "",
            "userId": ""
          }
        },
        "outputId": "54e1bed5-1942-4c61-ddd8-eea4bf674832"
      },
      "id": "wq0xdp_LBcRR",
      "execution_count": 20,
      "outputs": [
        {
          "output_type": "stream",
          "name": "stdout",
          "text": [
            "[Prompt]\n",
            "Answer the question given in the contex below:\n",
            "Context: \n",
            "Storage and content policy \n",
            "\n",
            "How durable is my data in Cloud Storage? \n",
            "\n",
            "Cloud Storage is designed for 99.999999999% (11 9's) annual durability, which is appropriate for even primary storage and\n",
            "business-critical applications. This high durability level is achieved through erasure coding that stores data pieces redundantly\n",
            "across multiple devices located in multiple availability zones.\n",
            "Objects written to Cloud Storage must be redundantly stored in at least two different availability zones before the\n",
            "write is acknowledged as successful. Checksums are stored and regularly revalidated to proactively verify that the data\n",
            "integrity of all data at rest as well as to detect corruption of data in transit. If required, corrections are automatically\n",
            "made using redundant data. Customers can optionally enable object versioning to add protection against accidental deletion.\n",
            "?\n",
            "\n",
            "Question: How is high availability achieved? \n",
            "\n",
            "Answer:\n",
            "\n",
            "[Response]\n",
            "## High Availability in Cloud Storage\n",
            "\n",
            "Cloud Storage achieves high availability through a combination of redundancy and proactive data integrity checks:\n",
            "\n",
            "**Redundancy:**\n",
            "\n",
            "* **Erasure coding:** Data is split into pieces and stored redundantly across multiple devices in different availability zones. This ensures that even if some devices fail, the data remains accessible.\n",
            "* **Multi-regional storage:** Customers can choose to store their data in multiple regions, further increasing availability in case of regional outages.\n",
            "\n",
            "**Data Integrity Checks:**\n",
            "\n",
            "* **Checksums:** Checksums are stored for each data object and regularly revalidated to detect any corruption.\n",
            "* **Automatic correction:** If corruption is detected, Cloud Storage automatically repairs the data using the redundant copies.\n",
            "\n",
            "**Additional Features:**\n",
            "\n",
            "* **Object versioning:** This allows users to restore previous versions of objects in case of accidental deletion or modification.\n",
            "\n",
            "**Overall, these measures ensure that Cloud Storage provides high availability and data durability, making it suitable for even mission-critical applications.** \n",
            "\n"
          ]
        }
      ]
    }
  ],
  "metadata": {
    "kernelspec": {
      "display_name": "Python 3",
      "language": "python",
      "name": "python3"
    },
    "language_info": {
      "codemirror_mode": {
        "name": "ipython",
        "version": 3
      },
      "file_extension": ".py",
      "mimetype": "text/x-python",
      "name": "python",
      "nbconvert_exporter": "python",
      "pygments_lexer": "ipython3",
      "version": "3.10.10"
    },
    "colab": {
      "provenance": [],
      "name": "gen-ai-use-cases.ipynb"
    }
  },
  "nbformat": 4,
  "nbformat_minor": 5
}