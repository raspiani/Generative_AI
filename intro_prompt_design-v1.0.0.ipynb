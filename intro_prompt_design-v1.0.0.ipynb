{
 "cells": [
  {
   "cell_type": "code",
   "execution_count": 1,
   "metadata": {
    "id": "ur8xi4C7S06n"
   },
   "outputs": [],
   "source": [
    "# Copyright 2024 Google LLC\n",
    "#\n",
    "# Licensed under the Apache License, Version 2.0 (the \"License\");\n",
    "# you may not use this file except in compliance with the License.\n",
    "# You may obtain a copy of the License at\n",
    "#\n",
    "#     https://www.apache.org/licenses/LICENSE-2.0\n",
    "#\n",
    "# Unless required by applicable law or agreed to in writing, software\n",
    "# distributed under the License is distributed on an \"AS IS\" BASIS,\n",
    "# WITHOUT WARRANTIES OR CONDITIONS OF ANY KIND, either express or implied.\n",
    "# See the License for the specific language governing permissions and\n",
    "# limitations under the License."
   ]
  },
  {
   "cell_type": "markdown",
   "metadata": {
    "id": "JAPoU8Sm5E6e"
   },
   "source": [
    "# Prompt Design - Best Practices\n",
    "\n",
    "<table align=\"left\">\n",
    "  <td style=\"text-align: center\">\n",
    "    <a href=\"https://colab.research.google.com/github/GoogleCloudPlatform/generative-ai/blob/main/gemini/prompts/intro_prompt_design.ipynb\">\n",
    "      <img src=\"https://cloud.google.com/ml-engine/images/colab-logo-32px.png\" alt=\"Google Colaboratory logo\"><br> Open in Colab\n",
    "    </a>\n",
    "  </td>\n",
    "  <td style=\"text-align: center\">\n",
    "    <a href=\"https://console.cloud.google.com/vertex-ai/colab/import/https:%2F%2Fraw.githubusercontent.com%2FGoogleCloudPlatform%2Fgenerative-ai%2Fmain%2Fgemini%2Fprompts%2Fintro_prompt_design.ipynb\">\n",
    "      <img width=\"32px\" src=\"https://lh3.googleusercontent.com/JmcxdQi-qOpctIvWKgPtrzZdJJK-J3sWE1RsfjZNwshCFgE_9fULcNpuXYTilIR2hjwN\" alt=\"Google Cloud Colab Enterprise logo\"><br> Open in Colab Enterprise\n",
    "    </a>\n",
    "  </td>    \n",
    "  <td style=\"text-align: center\">\n",
    "    <a href=\"https://console.cloud.google.com/vertex-ai/workbench/deploy-notebook?download_url=https://raw.githubusercontent.com/GoogleCloudPlatform/generative-ai/main/gemini/prompts/intro_prompt_design.ipynb\">\n",
    "      <img src=\"https://lh3.googleusercontent.com/UiNooY4LUgW_oTvpsNhPpQzsstV5W8F7rYgxgGBD85cWJoLmrOzhVs_ksK_vgx40SHs7jCqkTkCk=e14-rj-sc0xffffff-h130-w32\" alt=\"Vertex AI logo\"><br> Open in Workbench\n",
    "    </a>\n",
    "  </td>\n",
    "  <td style=\"text-align: center\">\n",
    "    <a href=\"https://github.com/GoogleCloudPlatform/generative-ai/blob/main/gemini/prompts/intro_prompt_design.ipynb\">\n",
    "      <img src=\"https://cloud.google.com/ml-engine/images/github-logo-32px.png\" alt=\"GitHub logo\"><br> View on GitHub\n",
    "    </a>\n",
    "  </td>\n",
    "</table>"
   ]
  },
  {
   "cell_type": "markdown",
   "metadata": {
    "id": "84f0f73a0f76"
   },
   "source": [
    "| | | |\n",
    "|-|-|-|\n",
    "|Author(s) | [Polong Lin](https://github.com/polong-lin) | [Karl Weinmeister](https://github.com/kweinmeister)|"
   ]
  },
  {
   "cell_type": "markdown",
   "metadata": {
    "id": "tvgnzT1CKxrO"
   },
   "source": [
    "## Overview\n",
    "\n",
    "This notebook covers the essentials of prompt engineering, including some best practices.\n",
    "\n",
    "Learn more about prompt design in the [official documentation](https://cloud.google.com/vertex-ai/docs/generative-ai/text/text-overview).\n",
    "\n",
    "In this notebook, you learn best practices around prompt engineering -- how to design prompts to improve the quality of your responses. \n",
    "\n",
    "This notebook covers the following best practices for prompt engineering:\n",
    "\n",
    "- Be concise\n",
    "- Be specific and well-defined\n",
    "- Ask one task at a time\n",
    "- Turn generative tasks into classification tasks\n",
    "- Improve response quality by including examples"
   ]
  },
  {
   "cell_type": "markdown",
   "metadata": {
    "id": "61RBz8LLbxCR"
   },
   "source": [
    "## Getting Started"
   ]
  },
  {
   "cell_type": "markdown",
   "metadata": {
    "id": "No17Cw5hgx12"
   },
   "source": [
    "### Install Vertex AI SDK and other required packages\n"
   ]
  },
  {
   "cell_type": "code",
   "execution_count": 2,
   "metadata": {
    "id": "tFy3H3aPgx12",
    "tags": []
   },
   "outputs": [
    {
     "name": "stdout",
     "output_type": "stream",
     "text": [
      "Note: you may need to restart the kernel to use updated packages.\n"
     ]
    }
   ],
   "source": [
    "%pip install --upgrade --user --quiet google-cloud-aiplatform"
   ]
  },
  {
   "cell_type": "markdown",
   "metadata": {
    "id": "R5Xep4W9lq-Z"
   },
   "source": [
    "### Restart runtime\n",
    "\n",
    "To use the newly installed packages in this Jupyter runtime, you must restart the runtime. You can do this by running the cell below, which will restart the current kernel."
   ]
  },
  {
   "cell_type": "code",
   "execution_count": 3,
   "metadata": {
    "id": "XRvKdaPDTznN",
    "tags": []
   },
   "outputs": [
    {
     "data": {
      "text/plain": [
       "{'status': 'ok', 'restart': True}"
      ]
     },
     "execution_count": 3,
     "metadata": {},
     "output_type": "execute_result"
    }
   ],
   "source": [
    "import IPython\n",
    "\n",
    "app = IPython.Application.instance()\n",
    "app.kernel.do_shutdown(True)"
   ]
  },
  {
   "cell_type": "markdown",
   "metadata": {
    "id": "SbmM4z7FOBpM"
   },
   "source": [
    "<div class=\"alert alert-block alert-warning\">\n",
    "<b>⚠️ The kernel is going to restart. Please wait until it is finished before continuing to the next step. ⚠️</b>\n",
    "</div>\n"
   ]
  },
  {
   "cell_type": "markdown",
   "metadata": {
    "id": "dmWOrTJ3gx13"
   },
   "source": [
    "### Authenticate your notebook environment (Colab only)\n",
    "\n",
    "Authenticate your environment on Google Colab.\n"
   ]
  },
  {
   "cell_type": "code",
   "execution_count": 2,
   "metadata": {
    "id": "NyKGtVQjgx13",
    "tags": []
   },
   "outputs": [],
   "source": [
    "import sys\n",
    "\n",
    "if \"google.colab\" in sys.modules:\n",
    "    from google.colab import auth\n",
    "\n",
    "    auth.authenticate_user()"
   ]
  },
  {
   "cell_type": "markdown",
   "metadata": {
    "id": "DF4l8DTdWgPY"
   },
   "source": [
    "### Set Google Cloud project information and initialize Vertex AI SDK\n",
    "\n",
    "To get started using Vertex AI, you must have an existing Google Cloud project and [enable the Vertex AI API](https://console.cloud.google.com/flows/enableapi?apiid=aiplatform.googleapis.com).\n",
    "\n",
    "Learn more about [setting up a project and a development environment](https://cloud.google.com/vertex-ai/docs/start/cloud-environment)."
   ]
  },
  {
   "cell_type": "code",
   "execution_count": 3,
   "metadata": {
    "id": "Nqwi-5ufWp_B",
    "tags": []
   },
   "outputs": [],
   "source": [
    "PROJECT_ID = \"qwiklabs-gcp-01-177d3e4db61c\"  # @param {type:\"string\"}\n",
    "LOCATION = \"us-east4\"  # @param {type:\"string\"}\n",
    "\n",
    "import vertexai\n",
    "\n",
    "vertexai.init(project=PROJECT_ID, location=LOCATION)"
   ]
  },
  {
   "cell_type": "code",
   "execution_count": 4,
   "metadata": {
    "id": "QqRWdPGmW3NJ",
    "tags": []
   },
   "outputs": [],
   "source": [
    "from vertexai.generative_models import GenerationConfig, GenerativeModel\n",
    "import time"
   ]
  },
  {
   "cell_type": "markdown",
   "metadata": {
    "id": "OnFPpCRtXRl4"
   },
   "source": [
    "### Load model"
   ]
  },
  {
   "cell_type": "code",
   "execution_count": 5,
   "metadata": {
    "id": "IQYu_9SvXQah",
    "tags": []
   },
   "outputs": [],
   "source": [
    "model = GenerativeModel(\"gemini-1.5-flash\")"
   ]
  },
  {
   "cell_type": "code",
   "execution_count": 6,
   "metadata": {
    "tags": []
   },
   "outputs": [],
   "source": [
    "import time\n",
    "\n",
    "def call_gemini(prompt, generation_config=GenerationConfig(temperature=1.0)):\n",
    "    wait_time = 1\n",
    "    while True:\n",
    "        try:\n",
    "            response = model.generate_content(prompt, generation_config=generation_config).text\n",
    "            return response\n",
    "            break  # Exit the loop if successful\n",
    "        except Exception as e:  # Replace with the actual exception type\n",
    "            time.sleep(wait_time)\n",
    "            wait_time *= 2  # Double the wait time\n",
    "\n",
    "def send_message_gemini(model, prompt):    \n",
    "    wait_time = 1\n",
    "    while True:\n",
    "        try:\n",
    "            response = model.send_message(prompt).text\n",
    "            return response\n",
    "            break  # Exit the loop if successful\n",
    "        except Exception as e:  # Replace with the actual exception type\n",
    "            time.sleep(wait_time)\n",
    "            wait_time *= 2  # Double the wait time"
   ]
  },
  {
   "cell_type": "markdown",
   "metadata": {
    "id": "cVOtUNJ5X0PY"
   },
   "source": [
    "## Prompt engineering best practices"
   ]
  },
  {
   "cell_type": "markdown",
   "metadata": {
    "id": "uv_e0fEPX60q"
   },
   "source": [
    "Prompt engineering is all about how to design your prompts so that the response is what you were indeed hoping to see.\n",
    "\n",
    "The idea of using \"unfancy\" prompts is to minimize the noise in your prompt to reduce the possibility of the LLM misinterpreting the intent of the prompt. Below are a few guidelines on how to engineer \"unfancy\" prompts.\n",
    "\n",
    "In this section, you'll cover the following best practices when engineering prompts:\n",
    "\n",
    "* Be concise\n",
    "* Be specific, and well-defined\n",
    "* Ask one task at a time\n",
    "* Improve response quality by including examples\n",
    "* Turn generative tasks to classification tasks to improve safety"
   ]
  },
  {
   "cell_type": "markdown",
   "metadata": {
    "id": "0pY4XX0OX9_Y"
   },
   "source": [
    "### Be concise"
   ]
  },
  {
   "cell_type": "markdown",
   "metadata": {
    "id": "xlRpxyxGYA1K"
   },
   "source": [
    "🛑 Not recommended. The prompt below is unnecessarily verbose."
   ]
  },
  {
   "cell_type": "code",
   "execution_count": 7,
   "metadata": {
    "id": "YKV4G-CfXdbi",
    "tags": []
   },
   "outputs": [
    {
     "name": "stdout",
     "output_type": "stream",
     "text": [
      "Here are some name ideas for a flower shop specializing in dried flowers, playing on different themes:\n",
      "\n",
      "**Whimsical & Romantic:**\n",
      "\n",
      "* Whispered Petals\n",
      "* Everlasting Blooms\n",
      "* Dried Dreams\n",
      "* The Paper Garden\n",
      "* Bloom & Wither\n",
      "* The Dusty Rose\n",
      "* Timeless Bouquet\n",
      "* The Dried Flower Cottage\n",
      "* The Bloom & Botanical\n",
      "\n",
      "**Modern & Minimalist:**\n",
      "\n",
      "* Wild & Dried\n",
      "* The Dried Bloom Co.\n",
      "* Bloom & Preserve\n",
      "* The Botanist's Shelf\n",
      "* The Flower Archive\n",
      "* The Dried Bouquet\n",
      "* Simply Dried\n",
      "* Gather & Bloom\n",
      "\n",
      "**Creative & Unique:**\n",
      "\n",
      "* The Herbarium\n",
      "* The Flower Alchemist\n",
      "* The Sun-Kissed Bouquet\n",
      "* The Paper Flower Shop\n",
      "* The Dried Flower Bar\n",
      "* The Floral Canvas\n",
      "* Bloom & Hues\n",
      "* The Vintage Bloom\n",
      "* The Botanical Muse\n",
      "\n",
      "**Tips for Choosing a Name:**\n",
      "\n",
      "* **Keep it short and memorable.**\n",
      "* **Consider your target audience.**\n",
      "* **Make it relevant to your brand identity.**\n",
      "* **Check for availability.**\n",
      "* **Get feedback from others.**\n",
      "\n",
      "Ultimately, the best name for your flower shop is one that you love and that accurately reflects your brand. Good luck! \n",
      "\n"
     ]
    }
   ],
   "source": [
    "prompt = \"What do you think could be a good name for a flower shop that specializes in selling bouquets of dried flowers more than fresh flowers?\"\n",
    "\n",
    "print(call_gemini(prompt))"
   ]
  },
  {
   "cell_type": "markdown",
   "metadata": {
    "id": "YrJexRHJYnmC"
   },
   "source": [
    "✅ Recommended. The prompt below is to the point and concise."
   ]
  },
  {
   "cell_type": "code",
   "execution_count": 8,
   "metadata": {
    "id": "VHetn9lCYrXB",
    "tags": []
   },
   "outputs": [
    {
     "name": "stdout",
     "output_type": "stream",
     "text": [
      "## Names for a dried flower shop:\n",
      "\n",
      "**Short & Sweet:**\n",
      "\n",
      "* Bloom & Preserve\n",
      "* Everlasting Blooms\n",
      "* Dried & Delightful\n",
      "* The Dried Flower Co.\n",
      "* Petal & Stem\n",
      "* Willow & Wildflower\n",
      "* Botanicals & Blooms\n",
      "\n",
      "**Unique & Evocative:**\n",
      "\n",
      "* The Paper Garden\n",
      "* Whispers of Wild\n",
      "* Sun-Kissed Blooms\n",
      "* Timeless Blooms\n",
      "* The Petal Archive\n",
      "* Dried Dreams\n",
      "* The Botanical Bar\n",
      "\n",
      "**Descriptive & Playful:**\n",
      "\n",
      "* Forever in Bloom\n",
      "* The Flower Alchemist\n",
      "* Wildflower Sanctuary\n",
      "* The Dried Bouquet Bar\n",
      "* Bloom & Dust\n",
      "* The Floral Muse\n",
      "* The Dusty Rose\n",
      "\n",
      "**Bonus:**\n",
      "\n",
      "* Use your own name/initials for a personal touch.\n",
      "* Consider incorporating your location or a local landmark in the name.\n",
      "* Use a play on words related to dried flowers (e.g., \"Timeless Blooms,\" \"Forever in Bloom\").\n",
      "\n",
      "**Tip:** Check for available domain names and social media handles before settling on a name. \n",
      "\n"
     ]
    }
   ],
   "source": [
    "prompt = \"Suggest a name for a flower shop that sells bouquets of dried flowers\"\n",
    "\n",
    "print(call_gemini(prompt))"
   ]
  },
  {
   "cell_type": "markdown",
   "metadata": {
    "id": "eXTAvdOHY0OC"
   },
   "source": [
    "### Be specific, and well-defined"
   ]
  },
  {
   "cell_type": "markdown",
   "metadata": {
    "id": "FTH4GEIgY1dp"
   },
   "source": [
    "Suppose that you want to brainstorm creative ways to describe Earth."
   ]
  },
  {
   "cell_type": "markdown",
   "metadata": {
    "id": "o5BmXBiGY4KC"
   },
   "source": [
    "🛑 The prompt below might be a bit too generic (which is certainly OK if you'd like to ask a generic question!)"
   ]
  },
  {
   "cell_type": "code",
   "execution_count": 9,
   "metadata": {
    "id": "eHBaMvv7Y6mR",
    "tags": []
   },
   "outputs": [
    {
     "name": "stdout",
     "output_type": "stream",
     "text": [
      "## Earth: Our Home Planet\n",
      "\n",
      "Earth is the third planet from the Sun and the only known place in the universe where life is known to exist. It's a dynamic and diverse planet with a fascinating history, complex systems, and a vibrant biosphere. \n",
      "\n",
      "**Here's a glimpse of Earth:**\n",
      "\n",
      "**Physical Features:**\n",
      "\n",
      "* **Size:**  Earth has a diameter of about 12,742 kilometers (7,926 miles).\n",
      "* **Shape:** It's not perfectly spherical but slightly flattened at the poles and bulging at the equator, an oblate spheroid.\n",
      "* **Composition:** The planet is composed of a solid inner core, a liquid outer core, a mantle, and a thin crust. \n",
      "* **Atmosphere:** Earth has a protective atmosphere composed mainly of nitrogen (78%) and oxygen (21%). \n",
      "* **Hydrosphere:** About 71% of Earth's surface is covered in water, forming oceans, lakes, rivers, and ice.\n",
      "* **Landmasses:** The remaining 29% of Earth's surface is made up of continents and islands.\n",
      "\n",
      "**Life on Earth:**\n",
      "\n",
      "* **Biosphere:**  Earth is home to an incredible diversity of life forms, from single-celled organisms to complex multicellular animals and plants.\n",
      "* **Ecosystems:**  Different regions of Earth have unique ecosystems, ranging from lush rainforests to arid deserts, and everything in between.\n",
      "* **Humanity:**  Earth is the only known planet to harbor humans, who have evolved and developed complex societies and cultures.\n",
      "\n",
      "**Unique Characteristics:**\n",
      "\n",
      "* **Plate Tectonics:**  Earth's crust is divided into tectonic plates that move and interact, causing earthquakes, volcanic eruptions, and the formation of mountains.\n",
      "* **Climate:**  Earth's atmosphere and oceans create a complex climate system, with a wide range of temperatures and precipitation patterns.\n",
      "* **Magnetic Field:**  Earth has a magnetic field generated by the movement of its liquid iron core, protecting us from harmful solar radiation.\n",
      "* **Seasons:**  Earth's tilted axis causes different parts of the planet to receive varying amounts of sunlight throughout the year, resulting in seasons.\n",
      "\n",
      "**Challenges:**\n",
      "\n",
      "* **Climate Change:**  Human activities are altering Earth's climate, leading to increased temperatures, rising sea levels, and extreme weather events.\n",
      "* **Pollution:**  Pollution from human activities contaminates air, water, and soil, impacting ecosystems and human health.\n",
      "* **Resource Depletion:**  Overuse and mismanagement of natural resources threaten their long-term availability.\n",
      "\n",
      "**Exploring Earth:**\n",
      "\n",
      "* **Science and Technology:**  Scientists use various methods, from telescopes and satellites to field research, to study Earth's systems and processes.\n",
      "* **Space Exploration:**  Observing Earth from space provides a unique perspective and helps us understand the planet as a whole.\n",
      "\n",
      "Earth is a complex and interconnected system with a vast history and an uncertain future. By understanding the planet's workings and challenges, we can strive to protect and care for this remarkable place, our home.\n",
      "\n"
     ]
    }
   ],
   "source": [
    "prompt = \"Tell me about Earth\"\n",
    "\n",
    "print(call_gemini(prompt))"
   ]
  },
  {
   "cell_type": "markdown",
   "metadata": {
    "id": "4iyvEbteZnFL"
   },
   "source": [
    "✅ Recommended. The prompt below is specific and well-defined."
   ]
  },
  {
   "cell_type": "code",
   "execution_count": 10,
   "metadata": {
    "id": "JQ80z8urZnne",
    "tags": []
   },
   "outputs": [
    {
     "name": "stdout",
     "output_type": "stream",
     "text": [
      "## What Makes Earth Unique:\n",
      "\n",
      "**1. Liquid Water:** Earth is the only known planet in our solar system with abundant liquid water on its surface. This is crucial for life as we know it.\n",
      "\n",
      "**2. Plate Tectonics:**  Earth's crust is divided into tectonic plates that constantly shift and interact, causing earthquakes, volcanoes, and mountain formation. This dynamic process plays a vital role in regulating the planet's climate and creating diverse environments.\n",
      "\n",
      "**3. Atmosphere:**  Earth's atmosphere is a protective shield, regulating temperature, filtering harmful radiation, and allowing for weather patterns. Its composition, including the presence of oxygen, is unique and supports life.\n",
      "\n",
      "**4. Magnetic Field:** Earth's molten iron core generates a strong magnetic field, acting like a shield against harmful solar wind and radiation. \n",
      "\n",
      "**5. Diverse Life:** Earth is teeming with a vast array of life forms, from microscopic bacteria to towering trees and intelligent humans. This incredible biodiversity is a result of Earth's unique combination of factors.\n",
      "\n",
      "**6. Distance from the Sun:** Earth's location within the habitable zone of our solar system, not too close and not too far from the Sun, allows for liquid water and moderate temperatures.\n",
      "\n",
      "**7. Moon:** Earth's large moon has a significant gravitational influence, stabilizing the planet's rotation and causing tides, which play a role in shaping coastal environments.\n",
      "\n",
      "**8. Geological History:** Earth's long and complex geological history has shaped its surface and created a variety of habitats for life to thrive.\n",
      "\n",
      "**9.  Self-Regulating System:** Earth's climate and atmosphere are intricately connected, creating a delicate balance that allows for life to exist.\n",
      "\n",
      "**10.  The Presence of Humans:** While debatable if this makes Earth unique, the emergence of complex, intelligent life capable of altering the planet and exploring the cosmos sets Earth apart from other known planets.\n",
      "\n",
      "These are just a few of the factors that make Earth unique. It's a planet of incredible complexity and beauty, a testament to the wonders of the universe. \n",
      "\n"
     ]
    }
   ],
   "source": [
    "prompt = \"Generate a list of ways that makes Earth unique compared to other planets\"\n",
    "\n",
    "print(call_gemini(prompt))"
   ]
  },
  {
   "cell_type": "markdown",
   "metadata": {
    "id": "R5kmfZYHZsJ7"
   },
   "source": [
    "### Ask one task at a time"
   ]
  },
  {
   "cell_type": "markdown",
   "metadata": {
    "id": "rsAezxeYZuUN"
   },
   "source": [
    "🛑 Not recommended. The prompt below has two parts to the question that could be asked separately."
   ]
  },
  {
   "cell_type": "code",
   "execution_count": 11,
   "metadata": {
    "id": "ElywPXpuZtWf",
    "tags": []
   },
   "outputs": [
    {
     "name": "stdout",
     "output_type": "stream",
     "text": [
      "Here's a breakdown of boiling water and the blue sky:\n",
      "\n",
      "**Boiling Water**\n",
      "\n",
      "* **Method:** The best method depends on your needs and resources. Here are a few common options:\n",
      "    * **Stovetop:**  Simple, efficient, and works for most quantities of water. Use a pot with a flat bottom for even heating. \n",
      "    * **Electric Kettle:** Fast, convenient, and energy-efficient for smaller amounts of water.\n",
      "    * **Microwave:**  Quick for small quantities, but be cautious of uneven heating and potential for splattering.\n",
      "* **Why it Works:**  When you heat water, the molecules move faster and faster.  Eventually, they gain enough energy to break free from the liquid state and become steam (water vapor).  The boiling point of water is 100°C (212°F) at standard atmospheric pressure.\n",
      "\n",
      "**Why the Sky is Blue**\n",
      "\n",
      "* **Scattering:**  Sunlight is a mix of all colors (think of a rainbow).  As sunlight enters the Earth's atmosphere, it interacts with tiny particles like nitrogen and oxygen molecules. This interaction is called scattering.\n",
      "* **Rayleigh Scattering:**  Blue light is scattered more effectively than other colors by these small particles. This is because blue light has a shorter wavelength.\n",
      "* **The Result:**  The scattered blue light reaches our eyes from all directions, making the sky appear blue.\n",
      "\n",
      "**Let me know if you'd like more detail on any of these topics!** \n",
      "\n"
     ]
    }
   ],
   "source": [
    "prompt = \"What's the best method of boiling water and why is the sky blue?\"\n",
    "\n",
    "print(call_gemini(prompt))"
   ]
  },
  {
   "cell_type": "markdown",
   "metadata": {
    "id": "ejzahazBZ8vk"
   },
   "source": [
    "✅ Recommended. The prompts below asks one task a time."
   ]
  },
  {
   "cell_type": "code",
   "execution_count": 12,
   "metadata": {
    "id": "C5ckp2F0Z_Ba",
    "tags": []
   },
   "outputs": [
    {
     "name": "stdout",
     "output_type": "stream",
     "text": [
      "There's no single \"best\" method, as it depends on your needs and resources. Here's a breakdown of different methods and their pros and cons:\n",
      "\n",
      "**1. Stovetop:**\n",
      "\n",
      "* **Pros:** Most common, versatile, can boil large quantities, good for making tea or coffee.\n",
      "* **Cons:** Takes longer to heat up, can be inefficient if using an old stove, risk of burning if left unattended.\n",
      "\n",
      "**2. Electric Kettle:**\n",
      "\n",
      "* **Pros:** Fastest method, energy-efficient, convenient, often has temperature control for different drinks.\n",
      "* **Cons:** Limited capacity, can be noisy, less versatile than stovetop.\n",
      "\n",
      "**3. Microwave:**\n",
      "\n",
      "* **Pros:** Very fast, convenient for small quantities, good for instant beverages.\n",
      "* **Cons:** Doesn't always boil water evenly, can be less safe if used improperly, may not be suitable for all containers.\n",
      "\n",
      "**4. Camping Stove (Gas or Propane):**\n",
      "\n",
      "* **Pros:** Portable and ideal for outdoor use, efficient for camping or emergencies.\n",
      "* **Cons:** Requires fuel source, may be less convenient for everyday use.\n",
      "\n",
      "**Here are some tips for boiling water effectively:**\n",
      "\n",
      "* **Use the right pot:** Choose a pot with a flat bottom and a lid for faster heating.\n",
      "* **Fill the pot appropriately:** Don't overfill the pot, leave some space for the water to boil.\n",
      "* **Use the right heat setting:** Use a high heat setting to bring the water to a boil quickly.\n",
      "* **Keep an eye on the water:** Don't walk away while the water is boiling.\n",
      "* **Watch for rolling boils:** Ensure the water is actively boiling before using it for drinking or cooking.\n",
      "\n",
      "**For the most efficient and convenient method, an electric kettle is generally recommended. But the best method ultimately depends on your specific needs and preferences.**\n",
      "\n"
     ]
    }
   ],
   "source": [
    "prompt = \"What's the best method of boiling water?\"\n",
    "\n",
    "print(call_gemini(prompt))"
   ]
  },
  {
   "cell_type": "code",
   "execution_count": 13,
   "metadata": {
    "id": "KwUzhud4aA89",
    "tags": []
   },
   "outputs": [
    {
     "name": "stdout",
     "output_type": "stream",
     "text": [
      "The sky is blue because of a phenomenon called **Rayleigh scattering**. Here's how it works:\n",
      "\n",
      "* **Sunlight is made up of all colors of the rainbow.** This is called the visible spectrum.\n",
      "* **The Earth's atmosphere is filled with tiny particles, mostly nitrogen and oxygen molecules.**\n",
      "* **When sunlight enters the atmosphere, these particles scatter the light in all directions.** However, they scatter shorter wavelengths (like blue and violet) much more effectively than longer wavelengths (like red and orange).\n",
      "* **This preferential scattering of blue light is why we see a blue sky.** Our eyes are more sensitive to blue than violet, so we perceive the sky as blue rather than violet.\n",
      "\n",
      "**Here's a simple analogy:** Imagine a box filled with tiny marbles. If you shine a white light on the box, the marbles will scatter the light in all directions. But smaller marbles will scatter shorter wavelengths of light more effectively than larger marbles. So, if you look at the box from the side, you'll see a blue light scattered by the smaller marbles.\n",
      "\n",
      "**Why is the sky different colors at sunrise and sunset?**\n",
      "\n",
      "At sunrise and sunset, the sunlight has to travel through more of the atmosphere to reach our eyes. This means that more of the blue light is scattered away, leaving the longer wavelengths (red and orange) to be seen. That's why the sky appears red or orange at these times.\n",
      "\n",
      "**In summary:**\n",
      "\n",
      "* The sky is blue because of Rayleigh scattering, which preferentially scatters shorter wavelengths of light (blue and violet) from the sun.\n",
      "* Our eyes are more sensitive to blue than violet, so we see the sky as blue.\n",
      "* The color of the sky can change depending on the angle of the sun and the amount of atmosphere the light has to travel through.\n",
      "\n"
     ]
    }
   ],
   "source": [
    "prompt = \"Why is the sky blue?\"\n",
    "\n",
    "print(call_gemini(prompt))"
   ]
  },
  {
   "cell_type": "markdown",
   "metadata": {
    "id": "PJIL2RTQaGcT"
   },
   "source": [
    "### Watch out for hallucinations"
   ]
  },
  {
   "cell_type": "markdown",
   "metadata": {
    "id": "8Y8kYxrSaHE9"
   },
   "source": [
    "Although LLMs have been trained on a large amount of data, they can generate text containing statements not grounded in truth or reality; these responses from the LLM are often referred to as \"hallucinations\" due to their limited memorization capabilities. Note that simply prompting the LLM to provide a citation isn't a fix to this problem, as there are instances of LLMs providing false or inaccurate citations. Dealing with hallucinations is a fundamental challenge of LLMs and an ongoing research area, so it is important to be cognizant that LLMs may seem to give you confident, correct-sounding statements that are in fact incorrect.\n",
    "\n",
    "Note that if you intend to use LLMs for the creative use cases, hallucinating could actually be quite useful."
   ]
  },
  {
   "cell_type": "markdown",
   "metadata": {
    "id": "8NY5nAGeaJYS"
   },
   "source": [
    "Try the prompt like the one below repeatedly. We set the temperature to 1.0 so that it takes more risks in its choices. It's possible that it may provide an inaccurate, but confident answer."
   ]
  },
  {
   "cell_type": "code",
   "execution_count": 14,
   "metadata": {
    "id": "QALPjEILaM62",
    "tags": []
   },
   "outputs": [
    {
     "name": "stdout",
     "output_type": "stream",
     "text": [
      "I do not have access to real-time information, including the current date. To find out what day it is today, please check a calendar or your device's clock. \n",
      "\n"
     ]
    }
   ],
   "source": [
    "generation_config = GenerationConfig(temperature=1.0)\n",
    "\n",
    "prompt = \"What day is it today?\"\n",
    "\n",
    "print(call_gemini(prompt, generation_config))"
   ]
  },
  {
   "cell_type": "markdown",
   "metadata": {
    "id": "BRkwzbgRbhKt"
   },
   "source": [
    "Since LLMs do not have access to real-time information without further integrations, you may have noticed it hallucinates what day it is today in some of the outputs."
   ]
  },
  {
   "cell_type": "markdown",
   "metadata": {
    "id": "3c811e310d02"
   },
   "source": [
    "### Using system instructions to guardrail the model from irrelevant responses\n",
    "\n",
    "How can we attempt to reduce the chances of irrelevant responses and hallucinations?\n",
    "\n",
    "One way is to provide the LLM with [system instructions](https://cloud.google.com/vertex-ai/generative-ai/docs/multimodal/send-chat-prompts-gemini#system-instructions).\n",
    "\n",
    "Let's see how system instructions works and how you can use them to reduce hallucinations or irrelevant questions for a travel chatbot.\n",
    "\n",
    "Suppose we ask a simple question about one of Italy's most famous tourist spots."
   ]
  },
  {
   "cell_type": "code",
   "execution_count": 15,
   "metadata": {
    "id": "rB6zJU76biFK",
    "tags": []
   },
   "outputs": [
    {
     "name": "stdout",
     "output_type": "stream",
     "text": [
      "Milan is a city full of amazing sights! To give you the best recommendation, I need a little more information. What are you most interested in seeing?  \n",
      "\n",
      "* **Art and history?** Then you might love the Duomo, Leonardo da Vinci's Last Supper, or the Sforza Castle. \n",
      "* **Fashion and shopping?**  The Quadrilatero della Moda is a must-see. \n",
      "* **Something unique and off the beaten path?**  Maybe you'd enjoy the Navigli canals or the Brera district. \n",
      "\n",
      "Tell me more about your interests, and I can help you narrow down the perfect place for sightseeing in Milan! \n",
      "\n"
     ]
    }
   ],
   "source": [
    "model_travel = GenerativeModel(\n",
    "    model_name=\"gemini-1.5-flash\",\n",
    "    system_instruction=[\n",
    "        \"Hello! You are an AI chatbot for a travel web site.\",\n",
    "        \"Your mission is to provide helpful queries for travelers.\",\n",
    "        \"Remember that before you answer a question, you must check to see if it complies with your mission.\",\n",
    "        \"If not, you can say, Sorry I can't answer that question.\",\n",
    "    ],\n",
    ")\n",
    "\n",
    "chat = model_travel.start_chat()\n",
    "\n",
    "prompt = \"What is the best place for sightseeing in Milan, Italy?\"\n",
    "\n",
    "print(send_message_gemini(chat, prompt))"
   ]
  },
  {
   "cell_type": "markdown",
   "metadata": {
    "id": "WZa-Qcf9cF4A"
   },
   "source": [
    "Now let us pretend to be a user asks the chatbot a question that is unrelated to travel."
   ]
  },
  {
   "cell_type": "code",
   "execution_count": 16,
   "metadata": {
    "id": "AZKBIDr2cGnu",
    "tags": []
   },
   "outputs": [
    {
     "name": "stdout",
     "output_type": "stream",
     "text": [
      "Sorry, I can't answer that question. I'm designed to help with travel planning, not to give dinner recommendations. \n",
      "\n",
      "Would you like me to help you find some great restaurants in Milan?  I can help you search for Italian cuisine,  local specialties, or even something more international! \n",
      "\n"
     ]
    }
   ],
   "source": [
    "prompt = \"What's for dinner?\"\n",
    "\n",
    "print(send_message_gemini(chat, prompt))"
   ]
  },
  {
   "cell_type": "markdown",
   "metadata": {
    "id": "JiUYIhwpctCy"
   },
   "source": [
    "You can see that this way, a guardrail in the prompt prevented the chatbot from veering off course."
   ]
  },
  {
   "cell_type": "markdown",
   "metadata": {
    "id": "ZuuDhA37cvmP"
   },
   "source": [
    "### Turn generative tasks into classification tasks to reduce output variability"
   ]
  },
  {
   "cell_type": "markdown",
   "metadata": {
    "id": "kUCUrsUzczmb"
   },
   "source": [
    "#### Generative tasks lead to higher output variability"
   ]
  },
  {
   "cell_type": "markdown",
   "metadata": {
    "id": "a1xASHAkc46n"
   },
   "source": [
    "The prompt below results in an open-ended response, useful for brainstorming, but response is highly variable."
   ]
  },
  {
   "cell_type": "code",
   "execution_count": 17,
   "metadata": {
    "id": "nPfXQWIacwRf",
    "tags": []
   },
   "outputs": [
    {
     "name": "stdout",
     "output_type": "stream",
     "text": [
      "## Programming Activities for High School Students:\n",
      "\n",
      "**Level 1: Beginner Friendly:**\n",
      "\n",
      "* **Build a simple text-based game:**  Start with a classic like \"Guess the Number\" or \"Hangman\". This helps you learn basic input/output, loops, and conditional statements.\n",
      "* **Create a basic calculator:**  Practice arithmetic operations and user input. This also allows you to explore different data types.\n",
      "* **Develop a simple website:**  Learn HTML, CSS, and JavaScript to create a basic webpage with interactive elements.  \n",
      "\n",
      "**Level 2: Intermediate Challenges:**\n",
      "\n",
      "* **Build a simple data visualization tool:**  Use Python libraries like matplotlib or Plotly to create charts and graphs. You can explore data sets from your interests, like sports stats or video game scores.\n",
      "* **Create a chatbot:**  Learn about natural language processing and design a simple chatbot that can respond to basic questions.\n",
      "* **Develop a command-line tool:**  This helps you understand how to interact with the operating system and write scripts to automate tasks.\n",
      "\n",
      "**Level 3: Advanced Projects:**\n",
      "\n",
      "* **Build a simple mobile app:**  Explore app development frameworks like Flutter or React Native to create a basic app for your phone.\n",
      "* **Contribute to an open-source project:**  Find a project you're interested in and offer your skills to improve the code.\n",
      "* **Develop a machine learning model:**  Learn about machine learning concepts and try building a model for a simple task, like image classification or spam detection.\n",
      "\n",
      "**Here are some resources that can help you get started:**\n",
      "\n",
      "* **Online Coding Platforms:** Codecademy, Khan Academy, FreeCodeCamp, edX, Coursera\n",
      "* **Programming Languages:** Python, JavaScript, Java, C++, HTML, CSS\n",
      "* **Project Ideas:** GitHub, Reddit (r/learnprogramming), HackerRank\n",
      "\n",
      "**Remember:**\n",
      "\n",
      "* **Choose a project that interests you.** This will make the learning process more enjoyable and engaging.\n",
      "* **Start small and gradually increase the complexity.** Don't be afraid to make mistakes.\n",
      "* **Ask for help when you need it.** There are many resources available online and in your community to support your learning.\n",
      "\n",
      "**Have fun and keep coding!** \n",
      "\n"
     ]
    }
   ],
   "source": [
    "prompt = \"I'm a high school student. Recommend me a programming activity to improve my skills.\"\n",
    "\n",
    "print(call_gemini(prompt))"
   ]
  },
  {
   "cell_type": "markdown",
   "metadata": {
    "id": "iAmm9wPYc_1o"
   },
   "source": [
    "#### Classification tasks reduces output variability"
   ]
  },
  {
   "cell_type": "markdown",
   "metadata": {
    "id": "VvRpK_0GdCpf"
   },
   "source": [
    "The prompt below results in a choice and may be useful if you want the output to be easier to control."
   ]
  },
  {
   "cell_type": "code",
   "execution_count": 18,
   "metadata": {
    "id": "kYDKh0r2dAqo",
    "tags": []
   },
   "outputs": [
    {
     "name": "stdout",
     "output_type": "stream",
     "text": [
      "It's great that you're exploring programming languages! All three languages you mentioned have their strengths and weaknesses. Here's a breakdown to help you decide:\n",
      "\n",
      "**a) Python:**\n",
      "\n",
      "* **Pros:**  \n",
      "    * **Beginner-friendly:** Python's syntax is simple and readable, making it excellent for beginners.\n",
      "    * **Versatility:** Widely used in web development, data science, machine learning, scripting, and more.\n",
      "    * **Large community:**  Extensive resources, tutorials, and support available online.\n",
      "    * **High demand:**  Python skills are highly sought after in various industries. \n",
      "\n",
      "* **Cons:**  \n",
      "    * **Not the best for web front-end:** While Python can be used for web development, it's not as popular for front-end work as JavaScript.\n",
      "\n",
      "**b) JavaScript:**\n",
      "\n",
      "* **Pros:**  \n",
      "    * **Dominates web development:** Essential for interactive websites, web applications, and front-end development.\n",
      "    * **Growing ecosystem:** Used in game development, mobile apps, and server-side programming (Node.js).\n",
      "    * **High demand:**  JavaScript developers are in high demand due to the web's dominance.\n",
      "\n",
      "* **Cons:**  \n",
      "    * **Can be challenging for beginners:** JavaScript's syntax and concepts can be complex at times.\n",
      "\n",
      "**c) Fortran:**\n",
      "\n",
      "* **Pros:**  \n",
      "    * **Powerful for scientific computing:** Historically used for high-performance computing, scientific simulations, and data analysis.\n",
      "    * **Legacy applications:** If you're interested in working with older scientific software, Fortran knowledge is essential.\n",
      "\n",
      "* **Cons:**  \n",
      "    * **Not widely used in modern applications:**  While it has niche uses, Fortran's popularity has declined in recent years.\n",
      "    * **Steep learning curve:**  Fortran's syntax can be challenging for beginners.\n",
      "\n",
      "**Recommendation:**\n",
      "\n",
      "* **For a broad range of applications and a smooth learning curve, Python is a great starting point.** \n",
      "* **If you're interested in web development, JavaScript is essential.**\n",
      "* **Fortran is best if you have specific needs in scientific computing or legacy applications.**\n",
      "\n",
      "**Additional Considerations:**\n",
      "\n",
      "* **Interests:**  What are you passionate about? What kind of projects would you like to create?\n",
      "* **Future career goals:** Consider the industries you're interested in and the skills they require.\n",
      "* **Learning resources:** Choose a language with plenty of online resources, tutorials, and communities.\n",
      "\n",
      "Ultimately, the best language for you depends on your individual needs and goals. Don't be afraid to try multiple languages and find one that you enjoy working with. \n",
      "\n"
     ]
    }
   ],
   "source": [
    "prompt = \"\"\"I'm a high school student. Which of these activities do you suggest and why:\n",
    "a) learn Python\n",
    "b) learn JavaScript\n",
    "c) learn Fortran\n",
    "\"\"\"\n",
    "\n",
    "print(call_gemini(prompt))"
   ]
  },
  {
   "cell_type": "markdown",
   "metadata": {
    "id": "iTd60b1GdIsx"
   },
   "source": [
    "### Improve response quality by including examples"
   ]
  },
  {
   "cell_type": "markdown",
   "metadata": {
    "id": "yJi44NejdJYE"
   },
   "source": [
    "Another way to improve response quality is to add examples in your prompt. The LLM learns in-context from the examples on how to respond. Typically, one to five examples (shots) are enough to improve the quality of responses. Including too many examples can cause the model to over-fit the data and reduce the quality of responses.\n",
    "\n",
    "Similar to classical model training, the quality and distribution of the examples is very important. Pick examples that are representative of the scenarios that you need the model to learn, and keep the distribution of the examples (e.g. number of examples per class in the case of classification) aligned with your actual distribution."
   ]
  },
  {
   "cell_type": "markdown",
   "metadata": {
    "id": "sMbLginWdOKs"
   },
   "source": [
    "#### Zero-shot prompt"
   ]
  },
  {
   "cell_type": "markdown",
   "metadata": {
    "id": "Crh2Loi2dQ0v"
   },
   "source": [
    "Below is an example of zero-shot prompting, where you don't provide any examples to the LLM within the prompt itself."
   ]
  },
  {
   "cell_type": "code",
   "execution_count": 19,
   "metadata": {
    "id": "-7myRc-SdTQ4",
    "tags": []
   },
   "outputs": [
    {
     "name": "stdout",
     "output_type": "stream",
     "text": [
      "Sentiment: **Positive** \n",
      "\n"
     ]
    }
   ],
   "source": [
    "prompt = \"\"\"Decide whether a Tweet's sentiment is positive, neutral, or negative.\n",
    "\n",
    "Tweet: I loved the new YouTube video you made!\n",
    "Sentiment:\n",
    "\"\"\"\n",
    "\n",
    "print(call_gemini(prompt))"
   ]
  },
  {
   "cell_type": "markdown",
   "metadata": {
    "id": "ucRtPn9SdL64"
   },
   "source": [
    "#### One-shot prompt"
   ]
  },
  {
   "cell_type": "markdown",
   "metadata": {
    "id": "rs0gQH2vdYBi"
   },
   "source": [
    "Below is an example of one-shot prompting, where you provide one example to the LLM within the prompt to give some guidance on what type of response you want."
   ]
  },
  {
   "cell_type": "code",
   "execution_count": 20,
   "metadata": {
    "id": "iEq-KxGYdaT5",
    "tags": []
   },
   "outputs": [
    {
     "name": "stdout",
     "output_type": "stream",
     "text": [
      "Sentiment: **negative** \n",
      "\n"
     ]
    }
   ],
   "source": [
    "prompt = \"\"\"Decide whether a Tweet's sentiment is positive, neutral, or negative.\n",
    "\n",
    "Tweet: I loved the new YouTube video you made!\n",
    "Sentiment: positive\n",
    "\n",
    "Tweet: That was awful. Super boring 😠\n",
    "Sentiment:\n",
    "\"\"\"\n",
    "\n",
    "print(call_gemini(prompt))"
   ]
  },
  {
   "cell_type": "markdown",
   "metadata": {
    "id": "JnKLjJzmdfL_"
   },
   "source": [
    "#### Few-shot prompt"
   ]
  },
  {
   "cell_type": "markdown",
   "metadata": {
    "id": "6Zv-9F5OdgI_"
   },
   "source": [
    "Below is an example of few-shot prompting, where you provide a few examples to the LLM within the prompt to give some guidance on what type of response you want."
   ]
  },
  {
   "cell_type": "code",
   "execution_count": 21,
   "metadata": {
    "id": "u37P9tG4dk9S",
    "tags": []
   },
   "outputs": [
    {
     "name": "stdout",
     "output_type": "stream",
     "text": [
      "Sentiment: **positive** \n",
      "\n",
      "Here's why:\n",
      "\n",
      "* **\"Something surprised me about this video - it was actually original.\"**  This implies a positive surprise and appreciation for something different.\n",
      "* **\"It was not the same old recycled stuff that I always see.\"**  This further highlights the positive aspect of the video being original and not repetitive.\n",
      "* **\"Watch it - you will not regret it.\"** This is a strong recommendation and indicates a positive opinion. \n",
      "\n"
     ]
    }
   ],
   "source": [
    "prompt = \"\"\"Decide whether a Tweet's sentiment is positive, neutral, or negative.\n",
    "\n",
    "Tweet: I loved the new YouTube video you made!\n",
    "Sentiment: positive\n",
    "\n",
    "Tweet: That was awful. Super boring 😠\n",
    "Sentiment: negative\n",
    "\n",
    "Tweet: Something surprised me about this video - it was actually original. It was not the same old recycled stuff that I always see. Watch it - you will not regret it.\n",
    "Sentiment:\n",
    "\"\"\"\n",
    "\n",
    "print(call_gemini(prompt))"
   ]
  },
  {
   "cell_type": "markdown",
   "metadata": {
    "id": "wDMD3xb2dvX6"
   },
   "source": [
    "#### Choosing between zero-shot, one-shot, few-shot prompting methods"
   ]
  },
  {
   "cell_type": "markdown",
   "metadata": {
    "id": "s92W0YpNdxJp"
   },
   "source": [
    "Which prompt technique to use will solely depends on your goal. The zero-shot prompts are more open-ended and can give you creative answers, while one-shot and few-shot prompts teach the model how to behave so you can get more predictable answers that are consistent with the examples provided."
   ]
  }
 ],
 "metadata": {
  "colab": {
   "name": "intro_prompt_design.ipynb",
   "toc_visible": true
  },
  "environment": {
   "kernel": "conda-base-py",
   "name": "workbench-notebooks.m127",
   "type": "gcloud",
   "uri": "us-docker.pkg.dev/deeplearning-platform-release/gcr.io/workbench-notebooks:m127"
  },
  "kernelspec": {
   "display_name": "Python 3 (ipykernel) (Local)",
   "language": "python",
   "name": "conda-base-py"
  },
  "language_info": {
   "codemirror_mode": {
    "name": "ipython",
    "version": 3
   },
   "file_extension": ".py",
   "mimetype": "text/x-python",
   "name": "python",
   "nbconvert_exporter": "python",
   "pygments_lexer": "ipython3",
   "version": "3.10.16"
  }
 },
 "nbformat": 4,
 "nbformat_minor": 4
}
